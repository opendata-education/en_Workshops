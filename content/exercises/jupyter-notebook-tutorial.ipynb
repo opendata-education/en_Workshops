{
 "cells": [
  {
   "cell_type": "markdown",
   "id": "94aa807a",
   "metadata": {},
   "source": [
    "# What is the Jupyter Notebook?"
   ]
  },
  {
   "cell_type": "markdown",
   "id": "68dd30ed",
   "metadata": {},
   "source": [
    "## 1. The basics"
   ]
  },
  {
   "cell_type": "markdown",
   "id": "5c577a7c",
   "metadata": {},
   "source": [
    "Hey! This platform is the **Jupyter Notebook** where you can process text, code, images and data interactively. These documents are called \"notebooks\".\n",
    "\n",
    "The Jupyter Notebook works in your internet browser, which means that there is no need to install anything. This makes the notebooks easy to learn and use.\n",
    "\n",
    "You can also use Jupyter Notebook *locally* by installing a program on your computer. In that case, a similar window opens up on your on browser, but you can directly use local files or download an unfinished notebook to your computer. This makes sense when you want to make your own exercises or review your students' answers that include code or data. An example of a program that includes the Jupyter Notebook is [Anaconda Navigator](https://docs.anaconda.com/anaconda/navigator/).\n",
    "\n",
    "When using the Jupyter Notebook on a browser, it opens a virtual session that expires if you're dormant for ten minutes. If restarting doesn't work, you can save the file after which you can continue making changes.\n",
    "\n",
    "A notebook consists of different cells. We use **Markdown cells** for text and **code cells** for executable code. You can modify a cell by double-clicking it. The modified cell can be run by clicking the Run-button or with the shortcut `Control + Enter` (Mac: `Command + Enter`). `Shift + Enter` runs the cell and selects the next one.\n",
    "\n",
    "You can find everything you need from the toolbar at the top of the window. You can save the file, make checkpoints, add or delete cells, move cells up or down, and run them. You can also choose between a text and a code cell using the drop-down menu.\n",
    "\n",
    "![](dropdown.png)"
   ]
  },
  {
   "cell_type": "code",
   "execution_count": null,
   "id": "278d176c",
   "metadata": {},
   "outputs": [],
   "source": [
    "# This is a code cell. You can write comments or instructions in a code cell by adding a number sign at the beginning of a line.\n",
    "# Let's do a short calculation for practice:\n",
    "\n",
    "a = 1+1  # The variable 'a' contains now the calculation 1+1\n",
    "print(a) # Print the variable 'a' to see result."
   ]
  },
  {
   "cell_type": "markdown",
   "id": "1f677703",
   "metadata": {},
   "source": [
    "Above we have a code cell that contains a short calculation. You can print the result by running the cell. On the left side of the cell there are square brackets. If there reads __In [\\*]__ inside the brackets, it means that the the execution of the cell is still in progress. When the cell has been run, a number appears inside the square brackets. The numbers tell in which order the cells have been run. If you ran the above cell once, there should be 1 inside the brackets. If you now run the cell for the second time, the number should change to 2."
   ]
  },
  {
   "cell_type": "markdown",
   "id": "ce460dc5",
   "metadata": {},
   "source": [
    "### Variables\n",
    "\n",
    "Variables are used to store data, numbers or text for example. A variable has a **name** and a **value**."
   ]
  },
  {
   "cell_type": "code",
   "execution_count": null,
   "id": "0499e3c9",
   "metadata": {},
   "outputs": [],
   "source": [
    "# name      value \n",
    "hedgehog = \"suprise!\"  # \"suprise!\" is stored in hedgehog\n",
    "\n",
    "print(hedgehog)        # without quotes, hedgehog refers to the variable\n",
    "print(\"hedgehog\")      # with quotes, \"hedgehog\" is just text"
   ]
  },
  {
   "cell_type": "markdown",
   "id": "01182c41",
   "metadata": {},
   "source": [
    "### Functions\n",
    "\n",
    "Functions are used to perform actions without having to write the same code all over again. A funcion has a **name**, **arguments**, and (optionally) a **return value**."
   ]
  },
  {
   "cell_type": "code",
   "execution_count": null,
   "id": "63d4f1fe",
   "metadata": {},
   "outputs": [],
   "source": [
    "#   name  arguments\n",
    "def give(food, animal):\n",
    "    print(\"You just gave\", food, \"to\", animal)\n",
    "\n",
    "f1 = \"a worm\"\n",
    "f2 = \"a fish\"\n",
    "a1 = \"a hedgehog\"\n",
    "a2 = \"an otter\"\n",
    "\n",
    "# a function is \"called\" using its name followed by the arguments you want to use\n",
    "give(f1, a1)\n",
    "give(f1, a2)"
   ]
  },
  {
   "cell_type": "markdown",
   "id": "7208364b",
   "metadata": {},
   "source": [
    "If a function has a return value, it can be stored in a variable."
   ]
  },
  {
   "cell_type": "code",
   "execution_count": null,
   "id": "d15761d1",
   "metadata": {},
   "outputs": [],
   "source": [
    "def triple(number):\n",
    "    return number * 3  # return value\n",
    "\n",
    "n = 21\n",
    "n = triple(n)\n",
    "print(n)"
   ]
  },
  {
   "cell_type": "markdown",
   "id": "b5c8875a",
   "metadata": {},
   "source": [
    "### Exercise: Modify this text cell by adding a sentence that describes today's weather."
   ]
  },
  {
   "cell_type": "markdown",
   "id": "6ec863d1",
   "metadata": {},
   "source": [
    "### Exercise: Add a new code cell, calculate a sum, and store it in the variable b."
   ]
  },
  {
   "cell_type": "markdown",
   "id": "dbd6c46b",
   "metadata": {},
   "source": [
    "## 2. Python libraries"
   ]
  },
  {
   "cell_type": "markdown",
   "id": "17dec97b",
   "metadata": {},
   "source": [
    "When using Python we take use of different libraries, each of which has a unique collection of functions. The libraries we use the most are\n",
    "- __numpy__, contains tools for numerical analysis\n",
    "- __pandas__, includes tools for data analysis\n",
    "- __matplotlib.pyplot__, includes tools for plotting figures\n",
    "\n",
    "Each library can be imported by using the __import__ command.\n",
    "\n",
    "Note that sometimes when working with the Binder environment the kernel has to be restarted, which means that you must import the libraries again in order for them to work."
   ]
  },
  {
   "cell_type": "code",
   "execution_count": 2,
   "id": "47386d05",
   "metadata": {},
   "outputs": [],
   "source": [
    "# Run this cell first\n",
    "\n",
    "import numpy as np  #Import the numpy-library and give it an abbrevation for calling functions\n",
    "import pandas as pd #Do the same for the other libraries\n",
    "import matplotlib.pyplot as plt"
   ]
  },
  {
   "cell_type": "code",
   "execution_count": null,
   "id": "7415979d",
   "metadata": {},
   "outputs": [],
   "source": [
    "# Make an array [1 3 6] and save it in the variable 'vector'\n",
    "vector = np.array([1,3,6])\n",
    "print(vector)"
   ]
  },
  {
   "cell_type": "markdown",
   "id": "b88947cb",
   "metadata": {},
   "source": [
    "The **array** function can be used to make vectors and matrices, which makes it great for analyzing data."
   ]
  },
  {
   "cell_type": "code",
   "execution_count": null,
   "id": "ca11004e",
   "metadata": {},
   "outputs": [],
   "source": [
    "# Add 2 to each element.\n",
    "print(vector + 2)"
   ]
  },
  {
   "cell_type": "code",
   "execution_count": null,
   "id": "3482aeda",
   "metadata": {},
   "outputs": [],
   "source": [
    "# What is going to happen if we now print only the variable 'vector'?\n",
    "print(vector)"
   ]
  },
  {
   "cell_type": "code",
   "execution_count": null,
   "id": "1d8a1bd8",
   "metadata": {},
   "outputs": [],
   "source": [
    "# We need to remember to save our changes to the variable!\n",
    "vector = vector + 2\n",
    "print(vector)"
   ]
  },
  {
   "cell_type": "markdown",
   "id": "e1e0db29",
   "metadata": {},
   "source": [
    "We can form a matrix by adding arrays as elements in a bigger array."
   ]
  },
  {
   "cell_type": "code",
   "execution_count": null,
   "id": "0759fad0",
   "metadata": {},
   "outputs": [],
   "source": [
    "# Let's form two matrices and try out different sums.\n",
    "arr1 = np.array([[2,2],\n",
    "                    [1,2]])\n",
    "arr2 = np.array([[10,11],\n",
    "                   [20,21]])\n",
    "vector_sum = arr1+arr2\n",
    "print(\"The sum of the elements of array 1: \", arr1.sum())\n",
    "print(\"Vector sums: \", vector_sum)"
   ]
  },
  {
   "cell_type": "markdown",
   "id": "d762da5f",
   "metadata": {},
   "source": [
    "## 3. Reading data"
   ]
  },
  {
   "cell_type": "markdown",
   "id": "1d6eee18",
   "metadata": {},
   "source": [
    "You can import a dataset into a notebook with an open link. In order to read datasets we need the library pandas (imported as *pd* above) and the __read_csv()__-method. The CSV (comma-separated values) file type is useful for saving data into a text file. Using the __head()__-method we can look at the first five lines of the dataset.\n",
    "\n",
    "Let's try this with [open data](http://opendata.cern.ch/) from the CMS experiment at CERN. "
   ]
  },
  {
   "cell_type": "code",
   "execution_count": null,
   "id": "749cd183",
   "metadata": {},
   "outputs": [],
   "source": [
    "data = pd.read_csv(\"http://opendata.cern.ch/record/5209/files/diphoton.csv\")\n",
    "data.head()"
   ]
  },
  {
   "cell_type": "markdown",
   "id": "8f0b13cb",
   "metadata": {},
   "source": [
    "You can choose a specific variable from the data in the following way:"
   ]
  },
  {
   "cell_type": "code",
   "execution_count": null,
   "id": "5ee0b660",
   "metadata": {},
   "outputs": [],
   "source": [
    "# Choosing a specific column\n",
    "invariant_mass = data['M']\n",
    "print(invariant_mass)\n",
    "\n",
    "# Choosing a specific row\n",
    "row = data.loc[1]\n",
    "print(row)"
   ]
  },
  {
   "cell_type": "markdown",
   "id": "a20d1591",
   "metadata": {},
   "source": [
    "You can choose another file from the CMS experiment by using the link above and clicking on \"CMS\" at \"Focus on\" -part. This opens up a list of datasets for which you can add filters from the left. We recommend you to use the \"education\" filter in \"Filter by keywords\". When you have chosen a file, you can get the direct link to it by right-clicking the download button and selecting \"Copy Link\".\n",
    "\n",
    "![](copylink.png)"
   ]
  },
  {
   "cell_type": "markdown",
   "id": "6eab31ad",
   "metadata": {},
   "source": [
    "### Exercise: Open another dataset from the CMS experiment."
   ]
  },
  {
   "cell_type": "code",
   "execution_count": null,
   "id": "e8b2f669",
   "metadata": {},
   "outputs": [],
   "source": [
    "# Write your code here"
   ]
  },
  {
   "cell_type": "markdown",
   "id": "3a14c571",
   "metadata": {},
   "source": [
    "## 4. Plotting"
   ]
  },
  {
   "cell_type": "markdown",
   "id": "8460685e",
   "metadata": {},
   "source": [
    "In order to plot functions we need the matplotlib.pyplot library which we imported as *plt* earlier. We also need the pandas-library for handling data."
   ]
  },
  {
   "cell_type": "markdown",
   "id": "2446fab1",
   "metadata": {},
   "source": [
    "Let's import another dataset and make a histogram of its invariant mass."
   ]
  },
  {
   "cell_type": "code",
   "execution_count": 3,
   "id": "11664fe3",
   "metadata": {},
   "outputs": [],
   "source": [
    "dimuon = pd.read_csv(\"http://cern.ch/opendata/record/545/files/Dimuon_DoubleMu.csv\")"
   ]
  },
  {
   "cell_type": "code",
   "execution_count": 4,
   "id": "33efff3f",
   "metadata": {},
   "outputs": [
    {
     "data": {
      "image/png": "[encoded data removed]",
      "text/plain": [
       "<Figure size 1080x720 with 1 Axes>"
      ]
     },
     "metadata": {
      "needs_background": "light"
     },
     "output_type": "display_data"
    }
   ],
   "source": [
    "#Save the invariant mass in a variable\n",
    "invariant_mass1 = dimuon['M']\n",
    "\n",
    "# Plot the histogram with the function hist() of the matplotlib.pyplot module:\n",
    "# (http://matplotlib.org/api/pyplot_api.html?highlight=matplotlib.pyplot.hist#matplotlib.pyplot.hist).\n",
    "# 'Bins' determines the number of the bins used.\n",
    "fig = plt.figure(figsize=(15,10))\n",
    "plt.hist(invariant_mass1, bins=300)\n",
    "\n",
    "# Name the axes and give the title\n",
    "plt.xlabel('Invariant mass [GeV/c²]', fontsize=15)\n",
    "plt.ylabel('Number of collisions', fontsize=15)\n",
    "plt.title('The invariant mass of two muons', fontsize=15)\n",
    "\n",
    "# Show the plot.\n",
    "plt.show()"
   ]
  },
  {
   "cell_type": "markdown",
   "id": "cbe6ef57",
   "metadata": {},
   "source": [
    "On the plot we can see multiple peaks. We can zoom into them one at a time by adding a \"range\" argument:"
   ]
  },
  {
   "cell_type": "code",
   "execution_count": 5,
   "id": "a3b8826c",
   "metadata": {},
   "outputs": [
    {
     "data": {
      "image/png": "[encoded data removed]",
      "text/plain": [
       "<Figure size 1080x720 with 1 Axes>"
      ]
     },
     "metadata": {
      "needs_background": "light"
     },
     "output_type": "display_data"
    }
   ],
   "source": [
    "min = 80\n",
    "max = 100\n",
    "\n",
    "fig = plt.figure(figsize=(15,10))\n",
    "plt.hist(invariant_mass1, bins=200, range=[min,max])\n",
    "\n",
    "# Name the axes and give the title\n",
    "plt.xlabel('Invariant mass [GeV/c²]', fontsize=15)\n",
    "plt.ylabel('Number of collisions', fontsize=15)\n",
    "plt.title('The invariant mass of two muons', fontsize=15)\n",
    "\n",
    "# Show the plot.\n",
    "plt.show()"
   ]
  },
  {
   "cell_type": "markdown",
   "id": "19cd88ed",
   "metadata": {},
   "source": [
    "Now we can see more clearly that there is a peak at  around 91 GeV. This means that the muons are from a particle that has a mass of 91 GeV. This particle is known as the Z boson."
   ]
  },
  {
   "cell_type": "markdown",
   "id": "0c0e6f85",
   "metadata": {},
   "source": [
    "### Exercise: Choose another peak and zoom into it. Do you know which particle it represents?"
   ]
  },
  {
   "cell_type": "markdown",
   "id": "e5f88de3",
   "metadata": {},
   "source": [
    "## 5. Additional material"
   ]
  },
  {
   "cell_type": "markdown",
   "id": "90d1356d",
   "metadata": {},
   "source": [
    "In the dataset we chose the invariant mass had already been calculated. Often we have to calculate the variable we are interested in ourselves. Let's now try to calculate the invariant mass of two muons."
   ]
  },
  {
   "cell_type": "markdown",
   "id": "036521e1",
   "metadata": {},
   "source": [
    "The square of the invariant mass of two particles is given by\n",
    "$ M^2 = (E_1+E_2)^2-|| p_1+p_2 ||^2 = (E_1+E_2)^2-((p_{1_x}+p_{2_x})^2+(p_{1_y}+p_{2_y})^2+(p_{1_z}+p_{2_z})^2) $\n",
    "\n",
    "Now we can calculate the invariant mass knowing that we can choose the variables by **dimuon['E1']** etc. Remember that before every complex mathematical function you must define that it comes from the numpy library, which we imported and which we defined as np (e.g. **np.sqrt(your_value)**).\n",
    "\n",
    "Additionally, we can use powers without the numpy library using the \\*\\*-operator (e.g. x^2 is written as x**2)."
   ]
  },
  {
   "cell_type": "markdown",
   "id": "e3661227",
   "metadata": {},
   "source": [
    "### Exercise: Calculate the invariant mass for all the collisions and save it in the variable 'invariant_mass2'."
   ]
  },
  {
   "cell_type": "code",
   "execution_count": null,
   "id": "8b9c496a",
   "metadata": {},
   "outputs": [],
   "source": [
    "# Calculate the squared mass here (remove the hash symbol below)\n",
    "# mass_squared = \n",
    "\n",
    "# We must filter out the negative values\n",
    "invariant_mass2 = np.sqrt(mass_squared[mass_squared>=0])\n",
    "invariant_mass2.head()"
   ]
  },
  {
   "cell_type": "markdown",
   "id": "4dcc93b1",
   "metadata": {},
   "source": [
    "Run the code below to plot a histogram using the values of invariant mass that you calculated. Does it look similar to the one we plotted earlier?"
   ]
  },
  {
   "cell_type": "code",
   "execution_count": null,
   "id": "0394742e",
   "metadata": {},
   "outputs": [],
   "source": [
    "fig = plt.figure(figsize=(15,10))\n",
    "plt.hist(invariant_mass2, bins=200)\n",
    "\n",
    "# Name the axes and give the title\n",
    "plt.xlabel('Invariant mass [GeV/c²]', fontsize=15)\n",
    "plt.ylabel('Number of collisions', fontsize=15)\n",
    "plt.title('The invariant mass of two muons', fontsize=15)\n",
    "#Show the plot.\n",
    "plt.show()"
   ]
  }
 ],
 "metadata": {
  "kernelspec": {
   "display_name": "Python 3 (ipykernel)",
   "language": "python",
   "name": "python3"
  },
  "language_info": {
   "codemirror_mode": {
    "name": "ipython",
    "version": 3
   },
   "file_extension": ".py",
   "mimetype": "text/x-python",
   "name": "python",
   "nbconvert_exporter": "python",
   "pygments_lexer": "ipython3",
   "version": "3.9.12"
  }
 },
 "nbformat": 4,
 "nbformat_minor": 5
}
