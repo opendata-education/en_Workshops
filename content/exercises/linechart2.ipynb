{
 "cells": [
  {
   "cell_type": "markdown",
   "metadata": {},
   "source": [
    "# Line chart 2 – data from a column"
   ]
  },
  {
   "cell_type": "markdown",
   "metadata": {},
   "source": [
    "#### This template is made for you to customize.\n",
    "\n",
    "If you want to work with a specific column in your data set, or maybe even several columns, here is a simple way to plot a line chart from a column. In this example we use a data set from [here](https://ourworldindata.org/space-exploration-satellites), which shows the number of near-Earth asteroids observed since 1900 and their size categories.  \n",
    "\n",
    "Go ahead and use this template if you want to make a line chart from a row of your data file (or you can use the example data set). You just have to replace the data set and variable names, and add some text. If you have any problems and you cannot find an answer from Google, please do contact us! We are happy to help you."
   ]
  },
  {
   "cell_type": "code",
   "execution_count": 1,
   "metadata": {},
   "outputs": [],
   "source": [
    "# Import libraries \n",
    "\n",
    "import pandas as pd\n",
    "import matplotlib.pyplot as plt"
   ]
  },
  {
   "cell_type": "code",
   "execution_count": 2,
   "metadata": {},
   "outputs": [
    {
     "data": {
      "text/html": [
       "<div>\n",
       "<style scoped>\n",
       "    .dataframe tbody tr th:only-of-type {\n",
       "        vertical-align: middle;\n",
       "    }\n",
       "\n",
       "    .dataframe tbody tr th {\n",
       "        vertical-align: top;\n",
       "    }\n",
       "\n",
       "    .dataframe thead th {\n",
       "        text-align: right;\n",
       "    }\n",
       "</style>\n",
       "<table border=\"1\" class=\"dataframe\">\n",
       "  <thead>\n",
       "    <tr style=\"text-align: right;\">\n",
       "      <th></th>\n",
       "      <th>Entity</th>\n",
       "      <th>Code</th>\n",
       "      <th>Year</th>\n",
       "      <th>smaller_than_140m</th>\n",
       "      <th>between_140m_and_1km</th>\n",
       "      <th>larger_than_1km</th>\n",
       "    </tr>\n",
       "  </thead>\n",
       "  <tbody>\n",
       "    <tr>\n",
       "      <th>0</th>\n",
       "      <td>World</td>\n",
       "      <td>OWID_WRL</td>\n",
       "      <td>1900</td>\n",
       "      <td>0</td>\n",
       "      <td>0</td>\n",
       "      <td>1</td>\n",
       "    </tr>\n",
       "    <tr>\n",
       "      <th>1</th>\n",
       "      <td>World</td>\n",
       "      <td>OWID_WRL</td>\n",
       "      <td>1910</td>\n",
       "      <td>0</td>\n",
       "      <td>0</td>\n",
       "      <td>1</td>\n",
       "    </tr>\n",
       "    <tr>\n",
       "      <th>2</th>\n",
       "      <td>World</td>\n",
       "      <td>OWID_WRL</td>\n",
       "      <td>1920</td>\n",
       "      <td>0</td>\n",
       "      <td>0</td>\n",
       "      <td>3</td>\n",
       "    </tr>\n",
       "    <tr>\n",
       "      <th>3</th>\n",
       "      <td>World</td>\n",
       "      <td>OWID_WRL</td>\n",
       "      <td>1930</td>\n",
       "      <td>0</td>\n",
       "      <td>0</td>\n",
       "      <td>5</td>\n",
       "    </tr>\n",
       "    <tr>\n",
       "      <th>4</th>\n",
       "      <td>World</td>\n",
       "      <td>OWID_WRL</td>\n",
       "      <td>1940</td>\n",
       "      <td>0</td>\n",
       "      <td>1</td>\n",
       "      <td>8</td>\n",
       "    </tr>\n",
       "  </tbody>\n",
       "</table>\n",
       "</div>"
      ],
      "text/plain": [
       "  Entity      Code  Year  smaller_than_140m  between_140m_and_1km  \\\n",
       "0  World  OWID_WRL  1900                  0                     0   \n",
       "1  World  OWID_WRL  1910                  0                     0   \n",
       "2  World  OWID_WRL  1920                  0                     0   \n",
       "3  World  OWID_WRL  1930                  0                     0   \n",
       "4  World  OWID_WRL  1940                  0                     1   \n",
       "\n",
       "   larger_than_1km  \n",
       "0                1  \n",
       "1                1  \n",
       "2                3  \n",
       "3                5  \n",
       "4                8  "
      ]
     },
     "execution_count": 2,
     "metadata": {},
     "output_type": "execute_result"
    }
   ],
   "source": [
    "# Read csv file and skim it over, looks clean to me!\n",
    "\n",
    "asteroids = pd.read_csv('https://raw.githubusercontent.com/opendata-education/Tyopajat/main/materiaali/data/near-earth-asteroids-discovered-over-time.csv')\n",
    "asteroids.head()"
   ]
  },
  {
   "cell_type": "code",
   "execution_count": 4,
   "metadata": {},
   "outputs": [
    {
     "data": {
      "text/plain": [
       "0     1900\n",
       "1     1910\n",
       "2     1920\n",
       "3     1930\n",
       "4     1940\n",
       "5     1950\n",
       "6     1960\n",
       "7     1970\n",
       "8     1980\n",
       "9     1990\n",
       "10    2000\n",
       "11    2001\n",
       "12    2002\n",
       "13    2003\n",
       "14    2004\n",
       "15    2005\n",
       "16    2006\n",
       "17    2007\n",
       "18    2008\n",
       "19    2009\n",
       "20    2010\n",
       "21    2011\n",
       "22    2012\n",
       "23    2013\n",
       "24    2014\n",
       "25    2015\n",
       "26    2016\n",
       "27    2017\n",
       "28    2018\n",
       "29    2019\n",
       "30    2020\n",
       "31    2021\n",
       "Name: Year, dtype: int64"
      ]
     },
     "execution_count": 4,
     "metadata": {},
     "output_type": "execute_result"
    }
   ],
   "source": [
    "# Prepare the data for x-axis, in this case we take the values from 'Year' column into a variable 'years'\n",
    "# Put the header of the column you want inside the square brackets\n",
    "\n",
    "years = asteroids['Year']\n",
    "years"
   ]
  },
  {
   "cell_type": "code",
   "execution_count": 5,
   "metadata": {},
   "outputs": [],
   "source": [
    "# Prepare the data for y-axis\n",
    "# Let's pick the amount of small asteroids\n",
    "\n",
    "small = asteroids['smaller_than_140m']"
   ]
  },
  {
   "cell_type": "code",
   "execution_count": 6,
   "metadata": {},
   "outputs": [
    {
     "data": {
      "image/png": "[encoded data removed]",
      "text/plain": [
       "<Figure size 432x288 with 1 Axes>"
      ]
     },
     "metadata": {
      "needs_background": "light"
     },
     "output_type": "display_data"
    }
   ],
   "source": [
    "# Plot line chart with command plt.plot(x,y)\n",
    "\n",
    "plt.plot(years, small)\n",
    "\n",
    "plt.title('Title')\n",
    "plt.xlabel('x-axis label')\n",
    "plt.ylabel('y-axis label')\n",
    "\n",
    "plt.show()"
   ]
  },
  {
   "cell_type": "markdown",
   "metadata": {},
   "source": [
    "### Plotting multiple lines in one graph"
   ]
  },
  {
   "cell_type": "code",
   "execution_count": 7,
   "metadata": {},
   "outputs": [],
   "source": [
    "# Prepare the rest of the data for y-axis, different lines to different variables\n",
    "\n",
    "middle = asteroids['between_140m_and_1km']\n",
    "big = asteroids['larger_than_1km']"
   ]
  },
  {
   "cell_type": "code",
   "execution_count": 8,
   "metadata": {},
   "outputs": [
    {
     "data": {
      "image/png": "[encoded data removed]",
      "text/plain": [
       "<Figure size 432x288 with 1 Axes>"
      ]
     },
     "metadata": {
      "needs_background": "light"
     },
     "output_type": "display_data"
    }
   ],
   "source": [
    "# Plot all three lines, add colors and names for the lines\n",
    "\n",
    "plt.plot(years, small, color='blue', label='Small')\n",
    "plt.plot(years, middle, color='red', label='Middle')\n",
    "plt.plot(years, big, color = 'green', label='Big')\n",
    "\n",
    "plt.title('Title')\n",
    "plt.xlabel('x-axis label')\n",
    "plt.ylabel('y-axis label')\n",
    "\n",
    "plt.legend() # Prints names for the lines\n",
    "plt.show()"
   ]
  },
  {
   "cell_type": "markdown",
   "metadata": {},
   "source": [
    "## Plotting cumulative line chart\n",
    "\n",
    "Sometimes things are easier to visualize with a cumulative chart. It can be done with stackplot command from Matplotlib library."
   ]
  },
  {
   "cell_type": "code",
   "execution_count": 10,
   "metadata": {},
   "outputs": [
    {
     "data": {
      "text/plain": [
       "(1990.0, 2021.0)"
      ]
     },
     "execution_count": 10,
     "metadata": {},
     "output_type": "execute_result"
    },
    {
     "data": {
      "image/png": "[encoded data removed]",
      "text/plain": [
       "<Figure size 432x288 with 1 Axes>"
      ]
     },
     "metadata": {
      "needs_background": "light"
     },
     "output_type": "display_data"
    }
   ],
   "source": [
    "fig, ax = plt.subplots() # You need this line if you want to have the cropping at the bottom line\n",
    "\n",
    "plt.stackplot(years, big, middle, small, labels=['Over 1 km','Under 1 km, Over 140 m','Under 140 m'])\n",
    "plt.legend(loc='upper left') # Forcing legend to show in the upper left corner\n",
    "\n",
    "plt.title('Title')\n",
    "plt.xlabel('x-axis label')\n",
    "plt.ylabel('y-axis label')\n",
    "\n",
    "ax.set_xlim(1990, 2021) # Cropping x-acis to show years 1990 - 2021"
   ]
  }
 ],
 "metadata": {
  "kernelspec": {
   "display_name": "Python 3",
   "language": "python",
   "name": "python3"
  },
  "language_info": {
   "codemirror_mode": {
    "name": "ipython",
    "version": 3
   },
   "file_extension": ".py",
   "mimetype": "text/x-python",
   "name": "python",
   "nbconvert_exporter": "python",
   "pygments_lexer": "ipython3",
   "version": "3.8.5"
  }
 },
 "nbformat": 4,
 "nbformat_minor": 4
}
