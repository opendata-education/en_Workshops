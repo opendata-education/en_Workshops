{
 "cells": [
  {
   "cell_type": "markdown",
   "metadata": {},
   "source": [
    "# Line chart 2 – data from a column"
   ]
  },
  {
   "cell_type": "markdown",
   "metadata": {},
   "source": [
    "#### This template is made for you to customize.\n",
    "\n",
    "If you want to work with a specific column in your data set, or maybe even several columns, here is a simple way to plot a line chart from a column. In this example we use a data set from [here](https://ourworldindata.org/space-exploration-satellites), which shows the number of near-Earth asteroids observed since 1900 and their size categories.  \n",
    "\n",
    "Go ahead and use this template if you want to make a line chart from a row of your data file (or you can use the example data set). You just have to replace the data set and variable names, and add some text. If you have any problems and you cannot find an answer from Google, please do contact us! We are happy to help you."
   ]
  },
  {
   "cell_type": "code",
   "execution_count": null,
   "metadata": {},
   "outputs": [],
   "source": [
    "# Import libraries \n",
    "\n",
    "import pandas as pd\n",
    "import matplotlib.pyplot as plt"
   ]
  },
  {
   "cell_type": "code",
   "execution_count": null,
   "metadata": {},
   "outputs": [],
   "source": [
    "# Read csv file and skim it over, looks clean to me!\n",
    "\n",
    "asteroids = pd.read_csv('https://raw.githubusercontent.com/opendata-education/Tyopajat/main/materiaali/data/near-earth-asteroids-discovered-over-time.csv')\n",
    "asteroids.head()"
   ]
  },
  {
   "cell_type": "code",
   "execution_count": null,
   "metadata": {},
   "outputs": [],
   "source": [
    "# Prepare the data for x-axis, in this case we take the values from 'Year' column into a variable 'years'\n",
    "# Put the header of the column you want inside the square brackets\n",
    "\n",
    "years = asteroids['Year']\n",
    "years"
   ]
  },
  {
   "cell_type": "code",
   "execution_count": null,
   "metadata": {},
   "outputs": [],
   "source": [
    "# Prepare the data for y-axis\n",
    "# Let's pick the amount of small asteroids\n",
    "\n",
    "small = asteroids['smaller_than_140m']"
   ]
  },
  {
   "cell_type": "code",
   "execution_count": null,
   "metadata": {},
   "outputs": [],
   "source": [
    "# Plot line chart with command plt.plot(x,y)\n",
    "\n",
    "plt.plot(years, small)\n",
    "\n",
    "plt.title('Title')\n",
    "plt.xlabel('x-axis label')\n",
    "plt.ylabel('y-axis label')\n",
    "\n",
    "plt.show()"
   ]
  },
  {
   "cell_type": "markdown",
   "metadata": {},
   "source": [
    "### Plotting multiple lines in one graph"
   ]
  },
  {
   "cell_type": "code",
   "execution_count": null,
   "metadata": {},
   "outputs": [],
   "source": [
    "# Prepare the rest of the data for y-axis, different lines to different variables\n",
    "\n",
    "middle = asteroids['between_140m_and_1km']\n",
    "big = asteroids['larger_than_1km']"
   ]
  },
  {
   "cell_type": "code",
   "execution_count": null,
   "metadata": {},
   "outputs": [],
   "source": [
    "# Plot all three lines, add colors and names for the lines\n",
    "\n",
    "plt.plot(years, small, color='blue', label='Small')\n",
    "plt.plot(years, middle, color='red', label='Middle')\n",
    "plt.plot(years, big, color = 'green', label='Big')\n",
    "\n",
    "plt.title('Title')\n",
    "plt.xlabel('x-axis label')\n",
    "plt.ylabel('y-axis label')\n",
    "\n",
    "plt.legend() # Prints names for the lines\n",
    "plt.show()"
   ]
  },
  {
   "cell_type": "markdown",
   "metadata": {},
   "source": [
    "## Plotting cumulative line chart\n",
    "\n",
    "Sometimes things are easier to visualize with a cumulative chart. It can be done with stackplot command from Matplotlib library."
   ]
  },
  {
   "cell_type": "code",
   "execution_count": null,
   "metadata": {},
   "outputs": [],
   "source": [
    "fig, ax = plt.subplots() # You need this line if you want to have the cropping at the bottom line\n",
    "\n",
    "plt.stackplot(years, big, middle, small, labels=['Over 1 km','Under 1 km, Over 140 m','Under 140 m'])\n",
    "plt.legend(loc='upper left') # Forcing legend to show in the upper left corner\n",
    "\n",
    "plt.title('Title')\n",
    "plt.xlabel('x-axis label')\n",
    "plt.ylabel('y-axis label')\n",
    "\n",
    "ax.set_xlim(1990, 2021) # Cropping x-acis to show years 1990 - 2021"
   ]
  }
 ],
 "metadata": {
  "kernelspec": {
   "display_name": "Python 3 (ipykernel)",
   "language": "python",
   "name": "python3"
  },
  "language_info": {
   "codemirror_mode": {
    "name": "ipython",
    "version": 3
   },
   "file_extension": ".py",
   "mimetype": "text/x-python",
   "name": "python",
   "nbconvert_exporter": "python",
   "pygments_lexer": "ipython3",
   "version": "3.9.12"
  }
 },
 "nbformat": 4,
 "nbformat_minor": 4
}
