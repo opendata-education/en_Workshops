{
 "cells": [
  {
   "cell_type": "markdown",
   "metadata": {},
   "source": [
    "# Line chart 1 – data from a row"
   ]
  },
  {
   "cell_type": "markdown",
   "metadata": {},
   "source": [
    "### This template is made for you to customize. \n",
    "\n",
    "Sometimes we want to work with specific rows in a data set, especially when the data set appears to be in a list format. This type of data set is common when we are working on with objects that we can easily compare with each other, such as information between different countries, CO$^2$ emissions of different food supplies etc. In this template we use a data set that can be found from [here](https://www.gapminder.org/data/), showing country-specific energy consumption per capita from 1960 to 2015.\n",
    "\n",
    "Go ahead and use this template if you want to make a line chart from a row of your data file (or you can use the example data set). You just have to replace the data set and variable names, and add some text. If you have any problems and you cannot find an answer from Google, please do contact us! We are happy to help you."
   ]
  },
  {
   "cell_type": "code",
   "execution_count": null,
   "metadata": {},
   "outputs": [],
   "source": [
    "# Import libraries \n",
    "\n",
    "import pandas as pd\n",
    "import matplotlib.pyplot as plt\n",
    "import numpy as np"
   ]
  },
  {
   "cell_type": "code",
   "execution_count": null,
   "metadata": {},
   "outputs": [],
   "source": [
    "# Read csv file, which is downloaded to GitHub.\n",
    "# Head-command shows the data set, check that everything looks good.\n",
    "\n",
    "energy_per_capita = pd.read_csv('https://raw.githubusercontent.com/opendata-education/Harjoittelu/main/data/energy_use_per_person.csv')\n",
    "energy_per_capita.head()"
   ]
  },
  {
   "cell_type": "code",
   "execution_count": null,
   "metadata": {},
   "outputs": [],
   "source": [
    "# With this command we can check the row of the wanted country, so we can use that information later.\n",
    "\n",
    "energy_per_capita.loc[energy_per_capita['country'] == 'Finland']"
   ]
  },
  {
   "cell_type": "code",
   "execution_count": null,
   "metadata": {},
   "outputs": [],
   "source": [
    "# Prepare the data for x-axis - collect the column headers into a list\n",
    "# Use np.int_ or np.float_ commands. This changes the objects in the list to values\n",
    "# It is working, if it removes these '' from around the values\n",
    "\n",
    "# The number in square brackets in .values[1:] meand that we are choosing columns from nr. 1 till the last one\n",
    "# First column is nr. 0, so this drops off the 'country' column.\n",
    "# If you'd like to choose years 1960-1969, the command would be .values[1:11].\n",
    "\n",
    "year = list(np.int_(energy_per_capita.columns.values[1:]))\n",
    "year"
   ]
  },
  {
   "cell_type": "code",
   "execution_count": null,
   "metadata": {},
   "outputs": [],
   "source": [
    "# Prepare the data for y-axis.\n",
    "# Insert the number of the row you are interested in into the square brackets, for Finland it is 51.\n",
    "\n",
    "finland = energy_per_capita.loc[51]\n",
    "finland = list(np.int_(finland[1:]))\n",
    "finland"
   ]
  },
  {
   "cell_type": "code",
   "execution_count": null,
   "metadata": {},
   "outputs": [],
   "source": [
    "# All the data has been prepared, so we can create the plot with plt.plot(x,y) command\n",
    "\n",
    "plt.plot(year, finland)\n",
    "plt.title('Title')\n",
    "plt.xlabel('x-axis label')\n",
    "plt.ylabel('y-axis label')\n",
    "plt.show()"
   ]
  },
  {
   "cell_type": "markdown",
   "metadata": {},
   "source": [
    "#### If you want to add another line into the chart, here is the code:\n",
    "\n",
    "Let's compare the energy consumption between Finns and Indians."
   ]
  },
  {
   "cell_type": "code",
   "execution_count": null,
   "metadata": {},
   "outputs": [],
   "source": [
    "# Finding India from the data set.\n",
    "\n",
    "energy_per_capita.loc[energy_per_capita['country'] == 'India']"
   ]
  },
  {
   "cell_type": "code",
   "execution_count": null,
   "metadata": {},
   "outputs": [],
   "source": [
    "# Prepare the second data for y-axis, in this case both have the same x-axis.\n",
    "\n",
    "india = energy_per_capita.loc[72]\n",
    "india = list(np.float_(india[1:]))\n",
    "india"
   ]
  },
  {
   "cell_type": "code",
   "execution_count": null,
   "metadata": {},
   "outputs": [],
   "source": [
    "# Plotting both lines, adding colors and names for the lines.\n",
    "\n",
    "plt.plot(year, finland, color='blue', label='Finland')\n",
    "plt.plot(year, india, color='red', label='India')\n",
    "\n",
    "plt.title('Title')\n",
    "plt.xlabel('x-axis label')\n",
    "plt.ylabel('y-axis label')\n",
    "\n",
    "plt.legend() # Prints names of the lines\n",
    "plt.show()"
   ]
  }
 ],
 "metadata": {
  "kernelspec": {
   "display_name": "Python 3",
   "language": "python",
   "name": "python3"
  },
  "language_info": {
   "codemirror_mode": {
    "name": "ipython",
    "version": 3
   },
   "file_extension": ".py",
   "mimetype": "text/x-python",
   "name": "python",
   "nbconvert_exporter": "python",
   "pygments_lexer": "ipython3",
   "version": "3.8.5"
  }
 },
 "nbformat": 4,
 "nbformat_minor": 4
}
