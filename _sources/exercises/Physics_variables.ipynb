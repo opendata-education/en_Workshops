{
 "cells": [
  {
   "cell_type": "markdown",
   "id": "a1b38835",
   "metadata": {},
   "source": [
    "# Physics variables cheat sheet"
   ]
  },
  {
   "cell_type": "markdown",
   "id": "a8d58b50",
   "metadata": {},
   "source": [
    "This is a cheat sheet of the most common variables that appear in the CMS datasets. It can be useful when you don't remember what different variables mean or you don't remember the abbreviation for a certain variable.\n",
    "\n",
    "Note that when there are multiple particles in a dataset, the variable names often include a number that specifies the particle (e.g. eta1 and eta2).\n",
    "\n",
    "| Variable    | Description |\n",
    "| :-: | :- |\n",
    "|Run\t| The run number of the event. |\n",
    "|Event\t| The event number. An event is a collision of particles occurring in the detector. |\n",
    "|E\t| The total energy of the particle GeV). |\n",
    "|px,py,pz\t| The components of the momemtum of the particle (GeV). |\n",
    "|pt  |\tThe transverse momentum of the particle (GeV). |\n",
    "|eta\t|   The pseudorapidity of the particle. |\n",
    "|phi\t|   The phi angle of the particle (rad). |\n",
    "|Q\t|   The charge of the particle. |\n",
    "|M\t|   The invariant mass of two particles (GeV). |\n",
    "| Type\t|  For a muon, either a T or G, where T stands for tracker muon and G stands for global muon. |\n",
    "| Type | For an electron, either EB or EE: whether the electron is in the barrel or in the endcap. |\n",
    "| dxy\t|  The impact parameter in the transverse plane with respect to the vertex of the particle. |\n",
    "| isoTrack | The isolation variable for the electron in the tracker. |\n",
    "| isoEcal\t| The isolation variable for the electron in the ECAL. |\n",
    "| isoHcal\t| The isolation variable for the electron in the HCAL. |\n",
    "| iso  | The combined isolation (isoTrack + isoEcal + isoHcal) of the particle. |\n",
    "| chiSq | The chi-squared per degree-of-freedom of the particle. |\n",
    "| MET | The missing transverse momentum of the event (GeV). |\n",
    "| phiMET | The phi angle of the missing transverse momentum (rad). |\n"
   ]
  }
 ],
 "metadata": {
  "kernelspec": {
   "display_name": "Python 3 (ipykernel)",
   "language": "python",
   "name": "python3"
  },
  "language_info": {
   "codemirror_mode": {
    "name": "ipython",
    "version": 3
   },
   "file_extension": ".py",
   "mimetype": "text/x-python",
   "name": "python",
   "nbconvert_exporter": "python",
   "pygments_lexer": "ipython3",
   "version": "3.9.12"
  }
 },
 "nbformat": 4,
 "nbformat_minor": 5
}
