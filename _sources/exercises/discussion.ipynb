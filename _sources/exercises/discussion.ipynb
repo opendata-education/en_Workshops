{
 "cells": [
  {
   "cell_type": "markdown",
   "id": "bb1a8e5b",
   "metadata": {},
   "source": [
    "# Open-ended exercises"
   ]
  },
  {
   "cell_type": "markdown",
   "id": "dc240386",
   "metadata": {},
   "source": [
    "## 1. Critical look at data publishing\n",
    "\n",
    "Publishing data is great, but presenting it in a form that is actually useful for consumers is also important. The next exercise takes a critical look at different ways data is published. The exercise is meant to do in pairs of two.\n",
    "\n",
    "Below is a list of data sources; choose one of them. Depending on the source you might have to choose the variables to choose the specific dataset you want to explore. Your job is to analyze the dataset through the lens of a consumer of open data.\n",
    "\n",
    "Some aspects you might want to think about: \n",
    "- Does the title and description of the dataset match its content?\n",
    "- Do I understand the dataset and its different variables?\n",
    "- What questions could I answer using the data?\n",
    "- Is the data clean?\n",
    "- What can I use the data for? Is it open data?\n",
    "- How much effort would it take to make the data usable?\n",
    "- Can I find what the data has been used for?\n",
    "\n",
    "After this you can think how you would change the publication of the dataset. How would you improve the customer experience?\n",
    "Don't hesitate playing with the dataset by e.g. loading it into this notebook and trying out different things with it. You can also use other tools if you wish to.\n",
    "\n",
    "The exercise has been inspired by [this exercise](https://tanzania.learndata.info/InADay/course/en/exercises/Discovering_Open_Data_Exercise.pdf).\n",
    "\n",
    "### Datasets\n",
    "- Our World In Data - [CO2 Data Explorer](https://ourworldindata.org/explorers/co2?facet=none&country=CHN~USA~IND~GBR~OWID_WRL&Gas=CO%E2%82%82&Accounting=Production-based&Fuel=Total&Count=Per+capita)\n",
    "- Electrical half hourly raw and cleaned datasets for Great Britain from 2008-11-05: [https://zenodo.org/record/6958310#.Yv9dx3ZBy3A](https://zenodo.org/record/6958310#.Yv9dx3ZBy3A)\n",
    "- Choose a dataset from the Solar Influence Data Center. [https://www.sidc.be/silso/datafiles](https://www.sidc.be/silso/datafiles)\n",
    "- World Bank Gender statistics: [https://databank.worldbank.org/source/gender-statistics](https://databank.worldbank.org/source/gender-statistics)\n",
    "- Google Trends: search term \"CERN\" (you can also choose another search term or compare \"CERN\" to some other term) [https://trends.google.com/trends/explore?geo=FR&q=CERN](https://trends.google.com/trends/explore?geo=FR&q=CERN)"
   ]
  },
  {
   "cell_type": "markdown",
   "id": "3b0a20ca",
   "metadata": {},
   "source": [
    "## 2. Discussion questions\n",
    "\n",
    "The following exercise is meant to be done in groups of three or four. Below is a list of open-ended questions. Go through them one at a time. It's fine if you don't go over all of the questions; if some question generates a lot of discussion, feel free to continue with it.\n",
    "\n",
    "- What are the benefits of open data as opposed to other forms of data publishing?\n",
    "- Is science communication important? Why/why not? How could an individual scientist develop their science communication?\n",
    "- Think about some course that you’ve taken. Would it have been useful to utilize open data in that course? What about Jupyter notebooks?\n",
    "- Would it be useful for you to present your summer project in the notebook format? What about some other projects you’ve been a part of?"
   ]
  }
 ],
 "metadata": {
  "kernelspec": {
   "display_name": "Python 3 (ipykernel)",
   "language": "python",
   "name": "python3"
  },
  "language_info": {
   "codemirror_mode": {
    "name": "ipython",
    "version": 3
   },
   "file_extension": ".py",
   "mimetype": "text/x-python",
   "name": "python",
   "nbconvert_exporter": "python",
   "pygments_lexer": "ipython3",
   "version": "3.9.12"
  }
 },
 "nbformat": 4,
 "nbformat_minor": 5
}
