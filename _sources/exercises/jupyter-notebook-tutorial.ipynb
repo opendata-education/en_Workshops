{
 "cells": [
  {
   "cell_type": "markdown",
   "id": "94aa807a",
   "metadata": {},
   "source": [
    "# What is the Jupyter Notebook?\n",
    "\n",
    "Hey! This platform is the **Jupyter Notebook** where you can process text, code, images and data interactively. These documents are called \"notebooks\".\n",
    "\n",
    "The Jupyter Notebook works in your internet browser, which means that there is no need to install anything. This makes the notebooks easy to learn and use.\n",
    "\n",
    "You can also use Jupyter Notebook *locally* by installing a program on your computer. In that case, a similar window opens up on your on browser, but you can directly use local files or download an unfinished notebook to your computer. This makes sense when you want to make your own exercises or review your students' answers that include code or data. An example of a program that includes the Jupyter Notebook is [Anaconda Navigator](https://docs.anaconda.com/anaconda/navigator/).\n",
    "\n",
    "When using the Jupyter Notebook on a browser, it opens a virtual session that expires if you're dormant for ten minutes. If restarting doesn't work, you can save the file after which you can continue making changes.\n",
    "\n",
    "A notebook consists of different cells. We use **Markdown cells** for text and **code cells** for executable code. You can modify a cell by double-clicking it. The modified cell can be run by clicking the Run-button or with the shortcut Control + Enter (Mac: Command + Enter).\n",
    "\n",
    "You can find everything you need from the toolbar at the top of the window. You can save the file, make checkpoints, add or delete cells, move cells up or down, and run them. You can also choose between a text and a code cell using the drop-down menu."
   ]
  },
  {
   "cell_type": "code",
   "execution_count": 1,
   "id": "278d176c",
   "metadata": {},
   "outputs": [
    {
     "name": "stdout",
     "output_type": "stream",
     "text": [
      "2\n"
     ]
    }
   ],
   "source": [
    "# This is a code cell. You can write comments or instructions in a code cell by adding a number sign at the beginning of a line.\n",
    "# Let's do a short calculation for practice:\n",
    "\n",
    "a = 1+1  # The variable 'a' contains now the calculation 1+1\n",
    "print(a) # Print the variable 'a' to see result."
   ]
  },
  {
   "cell_type": "markdown",
   "id": "1f677703",
   "metadata": {},
   "source": [
    "Above we have a code cell that contains a short calculation. You can print the result by running the cell. On the left side of the cell there are square brackets. If there reads __In [\\*]__ inside the brackets, it means that the the execution of the cell is still in progress. When the cell has been run, a number appears inside the square brackets. The numbers tell in which order the cells have been run. If you ran the above cell once, there should be 1 inside the brackets. If you now run the cell for the second time, the number should change to 2."
   ]
  },
  {
   "cell_type": "markdown",
   "id": "d458fef0",
   "metadata": {},
   "source": [
    "### Exercise: Modify this text cell by adding a sentence that describes what weather it is today."
   ]
  },
  {
   "cell_type": "markdown",
   "id": "6ec863d1",
   "metadata": {},
   "source": [
    "### Exercise: Add a new code cell and calculate an arbitrary sum to the variable b."
   ]
  },
  {
   "cell_type": "markdown",
   "id": "dbd6c46b",
   "metadata": {},
   "source": [
    "## 1. Python libraries"
   ]
  },
  {
   "cell_type": "markdown",
   "id": "17dec97b",
   "metadata": {},
   "source": [
    "When using Python we take use of different libraries, each of which has a unique collection of functions. The libraries we use the most are\n",
    "- __numpy__, contains tools for numerical analysis\n",
    "- __pandas__, includes tools for data analysis\n",
    "- __matplotlib.pyplot__, includes tools for plotting figures\n",
    "\n",
    "Each library can be imported by using the __import__ command."
   ]
  },
  {
   "cell_type": "code",
   "execution_count": 22,
   "id": "47386d05",
   "metadata": {},
   "outputs": [],
   "source": [
    "# Run this cell first\n",
    "\n",
    "import numpy as np  # Import the numpy-library and give it an abbrevation for calling functions"
   ]
  },
  {
   "cell_type": "code",
   "execution_count": 9,
   "id": "7415979d",
   "metadata": {},
   "outputs": [
    {
     "name": "stdout",
     "output_type": "stream",
     "text": [
      "[1 3 6]\n"
     ]
    }
   ],
   "source": [
    "# Make an array [1 3 6] and save it in the variable 'vector'\n",
    "vector = np.array([1,3,6])\n",
    "print(vector)"
   ]
  },
  {
   "cell_type": "markdown",
   "id": "b88947cb",
   "metadata": {},
   "source": [
    "The array -method can be used to make vectors and matrices, which makes it great for analyzing data."
   ]
  },
  {
   "cell_type": "code",
   "execution_count": 10,
   "id": "ca11004e",
   "metadata": {},
   "outputs": [
    {
     "name": "stdout",
     "output_type": "stream",
     "text": [
      "[3 5 8]\n"
     ]
    }
   ],
   "source": [
    "# Add 2 to each element.\n",
    "print(vector + 2)"
   ]
  },
  {
   "cell_type": "code",
   "execution_count": 11,
   "id": "3482aeda",
   "metadata": {},
   "outputs": [
    {
     "name": "stdout",
     "output_type": "stream",
     "text": [
      "[1 3 6]\n"
     ]
    }
   ],
   "source": [
    "# What is going to happen if we now print only the variable 'vector'?\n",
    "print(vector)"
   ]
  },
  {
   "cell_type": "code",
   "execution_count": 12,
   "id": "1d8a1bd8",
   "metadata": {},
   "outputs": [
    {
     "name": "stdout",
     "output_type": "stream",
     "text": [
      "[3 5 8]\n"
     ]
    }
   ],
   "source": [
    "# We need to remember to save our changes to the variable!\n",
    "vector = vector + 2\n",
    "print(vector)"
   ]
  },
  {
   "cell_type": "markdown",
   "id": "e1e0db29",
   "metadata": {},
   "source": [
    "We can form a matrix by adding arrays as elements in a bigger array."
   ]
  },
  {
   "cell_type": "code",
   "execution_count": 13,
   "id": "0759fad0",
   "metadata": {},
   "outputs": [
    {
     "name": "stdout",
     "output_type": "stream",
     "text": [
      "The sum of the elements of array 1:  7\n",
      "Vector sums:  [[12 13]\n",
      " [21 23]]\n"
     ]
    }
   ],
   "source": [
    "# Let's form two matrices and try out different sums.\n",
    "arr1 = np.array([[2,2],\n",
    "                    [1,2]])\n",
    "arr2 = np.array([[10,11],\n",
    "                   [20,21]])\n",
    "vector_sum = arr1+arr2\n",
    "print(\"The sum of the elements of array 1: \", arr1.sum())\n",
    "print(\"Vector sums: \", vector_sum)"
   ]
  },
  {
   "cell_type": "markdown",
   "id": "d762da5f",
   "metadata": {},
   "source": [
    "## Reading data"
   ]
  },
  {
   "cell_type": "markdown",
   "id": "1d6eee18",
   "metadata": {},
   "source": [
    "You can import a dataset into a notebook with an open link. In order to read datasets we need the library pandas and the __read_csv()__-method. The CSV (comma-separated values) file type is a useful way for saving data into a text file. Using the __head()__-method we can look at the first five lines of the dataset.\n",
    "\n",
    "Let's try this with [open data](http://opendata.cern.ch/) from the CMS experiment at CERN. "
   ]
  },
  {
   "cell_type": "code",
   "execution_count": 4,
   "id": "749cd183",
   "metadata": {},
   "outputs": [
    {
     "data": {
      "text/html": [
       "<div>\n",
       "<style scoped>\n",
       "    .dataframe tbody tr th:only-of-type {\n",
       "        vertical-align: middle;\n",
       "    }\n",
       "\n",
       "    .dataframe tbody tr th {\n",
       "        vertical-align: top;\n",
       "    }\n",
       "\n",
       "    .dataframe thead th {\n",
       "        text-align: right;\n",
       "    }\n",
       "</style>\n",
       "<table border=\"1\" class=\"dataframe\">\n",
       "  <thead>\n",
       "    <tr style=\"text-align: right;\">\n",
       "      <th></th>\n",
       "      <th>Run</th>\n",
       "      <th>Event</th>\n",
       "      <th>pt1</th>\n",
       "      <th>eta1</th>\n",
       "      <th>phi1</th>\n",
       "      <th>pt2</th>\n",
       "      <th>eta2</th>\n",
       "      <th>phi2</th>\n",
       "      <th>M</th>\n",
       "    </tr>\n",
       "  </thead>\n",
       "  <tbody>\n",
       "    <tr>\n",
       "      <th>0</th>\n",
       "      <td>199319</td>\n",
       "      <td>641436592</td>\n",
       "      <td>77.2006</td>\n",
       "      <td>0.250438</td>\n",
       "      <td>0.605505</td>\n",
       "      <td>60.1382</td>\n",
       "      <td>0.650821</td>\n",
       "      <td>-1.53900</td>\n",
       "      <td>122.797901</td>\n",
       "    </tr>\n",
       "    <tr>\n",
       "      <th>1</th>\n",
       "      <td>199699</td>\n",
       "      <td>336259924</td>\n",
       "      <td>64.1091</td>\n",
       "      <td>0.473667</td>\n",
       "      <td>-0.815133</td>\n",
       "      <td>58.6038</td>\n",
       "      <td>0.032018</td>\n",
       "      <td>2.58568</td>\n",
       "      <td>124.586979</td>\n",
       "    </tr>\n",
       "    <tr>\n",
       "      <th>2</th>\n",
       "      <td>201602</td>\n",
       "      <td>114902683</td>\n",
       "      <td>73.7489</td>\n",
       "      <td>0.800788</td>\n",
       "      <td>0.261020</td>\n",
       "      <td>55.9369</td>\n",
       "      <td>0.698872</td>\n",
       "      <td>3.03502</td>\n",
       "      <td>126.462830</td>\n",
       "    </tr>\n",
       "    <tr>\n",
       "      <th>3</th>\n",
       "      <td>202087</td>\n",
       "      <td>923352992</td>\n",
       "      <td>102.9550</td>\n",
       "      <td>0.979959</td>\n",
       "      <td>0.148624</td>\n",
       "      <td>76.6940</td>\n",
       "      <td>0.815527</td>\n",
       "      <td>1.67359</td>\n",
       "      <td>123.622542</td>\n",
       "    </tr>\n",
       "    <tr>\n",
       "      <th>4</th>\n",
       "      <td>203894</td>\n",
       "      <td>688901524</td>\n",
       "      <td>53.4409</td>\n",
       "      <td>-0.709665</td>\n",
       "      <td>1.642300</td>\n",
       "      <td>46.4314</td>\n",
       "      <td>0.945537</td>\n",
       "      <td>-2.71670</td>\n",
       "      <td>123.203887</td>\n",
       "    </tr>\n",
       "  </tbody>\n",
       "</table>\n",
       "</div>"
      ],
      "text/plain": [
       "      Run      Event       pt1      eta1      phi1      pt2      eta2  \\\n",
       "0  199319  641436592   77.2006  0.250438  0.605505  60.1382  0.650821   \n",
       "1  199699  336259924   64.1091  0.473667 -0.815133  58.6038  0.032018   \n",
       "2  201602  114902683   73.7489  0.800788  0.261020  55.9369  0.698872   \n",
       "3  202087  923352992  102.9550  0.979959  0.148624  76.6940  0.815527   \n",
       "4  203894  688901524   53.4409 -0.709665  1.642300  46.4314  0.945537   \n",
       "\n",
       "      phi2           M  \n",
       "0 -1.53900  122.797901  \n",
       "1  2.58568  124.586979  \n",
       "2  3.03502  126.462830  \n",
       "3  1.67359  123.622542  \n",
       "4 -2.71670  123.203887  "
      ]
     },
     "execution_count": 4,
     "metadata": {},
     "output_type": "execute_result"
    }
   ],
   "source": [
    "import pandas as pd\n",
    "data = pd.read_csv(\"http://opendata.cern.ch/record/5209/files/diphoton.csv\")\n",
    "data.head()"
   ]
  },
  {
   "cell_type": "markdown",
   "id": "8f0b13cb",
   "metadata": {},
   "source": [
    "You can choose a specific variable from the data in the following way:"
   ]
  },
  {
   "cell_type": "code",
   "execution_count": 17,
   "id": "5ee0b660",
   "metadata": {},
   "outputs": [
    {
     "name": "stdout",
     "output_type": "stream",
     "text": [
      "0        11.82820\n",
      "1         2.58406\n",
      "2         3.11929\n",
      "3        10.51920\n",
      "4        40.98300\n",
      "           ...   \n",
      "99995    16.47860\n",
      "99996     2.32171\n",
      "99997     4.11094\n",
      "99998     2.64139\n",
      "99999    16.26690\n",
      "Name: M, Length: 100000, dtype: float64\n",
      "Type           GG\n",
      "Run        146511\n",
      "Event    25341481\n",
      "E1        18.4672\n",
      "px1       8.03395\n",
      "py1      -3.94072\n",
      "pz1      -16.1541\n",
      "pt1       8.94839\n",
      "eta1     -1.35299\n",
      "phi1    -0.456026\n",
      "Q1             -1\n",
      "E2        10.7295\n",
      "px2       6.29476\n",
      "py2      -2.52441\n",
      "pz2      -8.31349\n",
      "pt2       6.78208\n",
      "eta2     -1.03239\n",
      "phi2    -0.381397\n",
      "Q2              1\n",
      "M         2.58406\n",
      "Name: 1, dtype: object\n"
     ]
    }
   ],
   "source": [
    "# Choosing a specific column\n",
    "invariant_mass = data['M']\n",
    "print(invariant_mass)\n",
    "\n",
    "# Choosing a specific row\n",
    "row = data.loc[1]\n",
    "print(row)"
   ]
  },
  {
   "cell_type": "markdown",
   "id": "6eab31ad",
   "metadata": {},
   "source": [
    "### Exercise: Open another dataset from the CMS experiment to this notebook."
   ]
  },
  {
   "cell_type": "markdown",
   "id": "3a14c571",
   "metadata": {},
   "source": [
    "## 3. Plotting"
   ]
  },
  {
   "cell_type": "markdown",
   "id": "8460685e",
   "metadata": {},
   "source": [
    "In order to plot functions we need the matplotlib.pyplot library. We also need the numpy library but we don't have to import it now since we did it earlier."
   ]
  },
  {
   "cell_type": "code",
   "execution_count": 2,
   "id": "ccb78730",
   "metadata": {},
   "outputs": [],
   "source": [
    "import matplotlib.pyplot as plt"
   ]
  },
  {
   "cell_type": "markdown",
   "id": "2446fab1",
   "metadata": {},
   "source": [
    "Let's import another dataset and make a histogram of its invariant mass."
   ]
  },
  {
   "cell_type": "code",
   "execution_count": 14,
   "id": "11664fe3",
   "metadata": {},
   "outputs": [
    {
     "data": {
      "text/html": [
       "<div>\n",
       "<style scoped>\n",
       "    .dataframe tbody tr th:only-of-type {\n",
       "        vertical-align: middle;\n",
       "    }\n",
       "\n",
       "    .dataframe tbody tr th {\n",
       "        vertical-align: top;\n",
       "    }\n",
       "\n",
       "    .dataframe thead th {\n",
       "        text-align: right;\n",
       "    }\n",
       "</style>\n",
       "<table border=\"1\" class=\"dataframe\">\n",
       "  <thead>\n",
       "    <tr style=\"text-align: right;\">\n",
       "      <th></th>\n",
       "      <th>Type</th>\n",
       "      <th>Run</th>\n",
       "      <th>Event</th>\n",
       "      <th>E1</th>\n",
       "      <th>px1</th>\n",
       "      <th>py1</th>\n",
       "      <th>pz1</th>\n",
       "      <th>pt1</th>\n",
       "      <th>eta1</th>\n",
       "      <th>phi1</th>\n",
       "      <th>Q1</th>\n",
       "      <th>E2</th>\n",
       "      <th>px2</th>\n",
       "      <th>py2</th>\n",
       "      <th>pz2</th>\n",
       "      <th>pt2</th>\n",
       "      <th>eta2</th>\n",
       "      <th>phi2</th>\n",
       "      <th>Q2</th>\n",
       "      <th>M</th>\n",
       "    </tr>\n",
       "  </thead>\n",
       "  <tbody>\n",
       "    <tr>\n",
       "      <th>0</th>\n",
       "      <td>GT</td>\n",
       "      <td>146511</td>\n",
       "      <td>25343052</td>\n",
       "      <td>7.33390</td>\n",
       "      <td>2.060420</td>\n",
       "      <td>5.88580</td>\n",
       "      <td>-3.85836</td>\n",
       "      <td>6.23602</td>\n",
       "      <td>-0.584812</td>\n",
       "      <td>1.234060</td>\n",
       "      <td>-1</td>\n",
       "      <td>5.20755</td>\n",
       "      <td>-1.550160</td>\n",
       "      <td>-1.819760</td>\n",
       "      <td>4.62525</td>\n",
       "      <td>2.39050</td>\n",
       "      <td>1.414110</td>\n",
       "      <td>-2.276360</td>\n",
       "      <td>1</td>\n",
       "      <td>11.82820</td>\n",
       "    </tr>\n",
       "    <tr>\n",
       "      <th>1</th>\n",
       "      <td>GG</td>\n",
       "      <td>146511</td>\n",
       "      <td>25341481</td>\n",
       "      <td>18.46720</td>\n",
       "      <td>8.033950</td>\n",
       "      <td>-3.94072</td>\n",
       "      <td>-16.15410</td>\n",
       "      <td>8.94839</td>\n",
       "      <td>-1.352990</td>\n",
       "      <td>-0.456026</td>\n",
       "      <td>-1</td>\n",
       "      <td>10.72950</td>\n",
       "      <td>6.294760</td>\n",
       "      <td>-2.524410</td>\n",
       "      <td>-8.31349</td>\n",
       "      <td>6.78208</td>\n",
       "      <td>-1.032390</td>\n",
       "      <td>-0.381397</td>\n",
       "      <td>1</td>\n",
       "      <td>2.58406</td>\n",
       "    </tr>\n",
       "    <tr>\n",
       "      <th>2</th>\n",
       "      <td>GG</td>\n",
       "      <td>146511</td>\n",
       "      <td>25390065</td>\n",
       "      <td>7.70222</td>\n",
       "      <td>-0.248771</td>\n",
       "      <td>4.08338</td>\n",
       "      <td>6.52511</td>\n",
       "      <td>4.09095</td>\n",
       "      <td>1.246340</td>\n",
       "      <td>1.631640</td>\n",
       "      <td>-1</td>\n",
       "      <td>6.90202</td>\n",
       "      <td>-3.024390</td>\n",
       "      <td>3.751290</td>\n",
       "      <td>4.94041</td>\n",
       "      <td>4.81862</td>\n",
       "      <td>0.899132</td>\n",
       "      <td>2.249320</td>\n",
       "      <td>1</td>\n",
       "      <td>3.11929</td>\n",
       "    </tr>\n",
       "    <tr>\n",
       "      <th>3</th>\n",
       "      <td>GG</td>\n",
       "      <td>146511</td>\n",
       "      <td>25391068</td>\n",
       "      <td>6.59462</td>\n",
       "      <td>5.246510</td>\n",
       "      <td>2.16082</td>\n",
       "      <td>3.35900</td>\n",
       "      <td>5.67407</td>\n",
       "      <td>0.561945</td>\n",
       "      <td>0.390686</td>\n",
       "      <td>1</td>\n",
       "      <td>7.43461</td>\n",
       "      <td>-5.060690</td>\n",
       "      <td>4.408010</td>\n",
       "      <td>3.19704</td>\n",
       "      <td>6.71127</td>\n",
       "      <td>0.459977</td>\n",
       "      <td>2.425020</td>\n",
       "      <td>-1</td>\n",
       "      <td>10.51920</td>\n",
       "    </tr>\n",
       "    <tr>\n",
       "      <th>4</th>\n",
       "      <td>GG</td>\n",
       "      <td>146511</td>\n",
       "      <td>25489877</td>\n",
       "      <td>45.77350</td>\n",
       "      <td>8.864420</td>\n",
       "      <td>1.28931</td>\n",
       "      <td>-44.88830</td>\n",
       "      <td>8.95770</td>\n",
       "      <td>-2.314620</td>\n",
       "      <td>0.144435</td>\n",
       "      <td>-1</td>\n",
       "      <td>9.27485</td>\n",
       "      <td>-3.646960</td>\n",
       "      <td>-0.276874</td>\n",
       "      <td>8.52260</td>\n",
       "      <td>3.65745</td>\n",
       "      <td>1.582250</td>\n",
       "      <td>-3.065820</td>\n",
       "      <td>1</td>\n",
       "      <td>40.98300</td>\n",
       "    </tr>\n",
       "    <tr>\n",
       "      <th>...</th>\n",
       "      <td>...</td>\n",
       "      <td>...</td>\n",
       "      <td>...</td>\n",
       "      <td>...</td>\n",
       "      <td>...</td>\n",
       "      <td>...</td>\n",
       "      <td>...</td>\n",
       "      <td>...</td>\n",
       "      <td>...</td>\n",
       "      <td>...</td>\n",
       "      <td>...</td>\n",
       "      <td>...</td>\n",
       "      <td>...</td>\n",
       "      <td>...</td>\n",
       "      <td>...</td>\n",
       "      <td>...</td>\n",
       "      <td>...</td>\n",
       "      <td>...</td>\n",
       "      <td>...</td>\n",
       "      <td>...</td>\n",
       "    </tr>\n",
       "    <tr>\n",
       "      <th>99995</th>\n",
       "      <td>GG</td>\n",
       "      <td>146510</td>\n",
       "      <td>209126492</td>\n",
       "      <td>17.86720</td>\n",
       "      <td>-2.053890</td>\n",
       "      <td>2.70372</td>\n",
       "      <td>17.54130</td>\n",
       "      <td>3.39538</td>\n",
       "      <td>2.344530</td>\n",
       "      <td>2.220450</td>\n",
       "      <td>1</td>\n",
       "      <td>16.26420</td>\n",
       "      <td>-3.914730</td>\n",
       "      <td>-12.028600</td>\n",
       "      <td>10.22260</td>\n",
       "      <td>12.64960</td>\n",
       "      <td>0.739009</td>\n",
       "      <td>-1.885440</td>\n",
       "      <td>1</td>\n",
       "      <td>16.47860</td>\n",
       "    </tr>\n",
       "    <tr>\n",
       "      <th>99996</th>\n",
       "      <td>GT</td>\n",
       "      <td>146510</td>\n",
       "      <td>209181268</td>\n",
       "      <td>22.45350</td>\n",
       "      <td>2.991560</td>\n",
       "      <td>-12.67420</td>\n",
       "      <td>-18.29110</td>\n",
       "      <td>13.02240</td>\n",
       "      <td>-1.140640</td>\n",
       "      <td>-1.339000</td>\n",
       "      <td>1</td>\n",
       "      <td>4.71292</td>\n",
       "      <td>-0.250232</td>\n",
       "      <td>-2.176830</td>\n",
       "      <td>-4.17124</td>\n",
       "      <td>2.19117</td>\n",
       "      <td>-1.399700</td>\n",
       "      <td>-1.685250</td>\n",
       "      <td>-1</td>\n",
       "      <td>2.32171</td>\n",
       "    </tr>\n",
       "    <tr>\n",
       "      <th>99997</th>\n",
       "      <td>GT</td>\n",
       "      <td>146510</td>\n",
       "      <td>209199660</td>\n",
       "      <td>8.09128</td>\n",
       "      <td>-1.805550</td>\n",
       "      <td>-2.29272</td>\n",
       "      <td>-7.54593</td>\n",
       "      <td>2.91832</td>\n",
       "      <td>-1.678600</td>\n",
       "      <td>-2.237880</td>\n",
       "      <td>-1</td>\n",
       "      <td>4.33412</td>\n",
       "      <td>1.778710</td>\n",
       "      <td>-2.187670</td>\n",
       "      <td>-3.28995</td>\n",
       "      <td>2.81952</td>\n",
       "      <td>-0.994575</td>\n",
       "      <td>-0.888141</td>\n",
       "      <td>1</td>\n",
       "      <td>4.11094</td>\n",
       "    </tr>\n",
       "    <tr>\n",
       "      <th>99998</th>\n",
       "      <td>GT</td>\n",
       "      <td>146510</td>\n",
       "      <td>209209004</td>\n",
       "      <td>9.72188</td>\n",
       "      <td>4.608720</td>\n",
       "      <td>2.11413</td>\n",
       "      <td>-8.29421</td>\n",
       "      <td>5.07049</td>\n",
       "      <td>-1.267800</td>\n",
       "      <td>0.430085</td>\n",
       "      <td>1</td>\n",
       "      <td>5.13298</td>\n",
       "      <td>3.917130</td>\n",
       "      <td>0.749418</td>\n",
       "      <td>-3.22967</td>\n",
       "      <td>3.98817</td>\n",
       "      <td>-0.740312</td>\n",
       "      <td>0.189034</td>\n",
       "      <td>-1</td>\n",
       "      <td>2.64139</td>\n",
       "    </tr>\n",
       "    <tr>\n",
       "      <th>99999</th>\n",
       "      <td>GG</td>\n",
       "      <td>146510</td>\n",
       "      <td>209458092</td>\n",
       "      <td>31.97880</td>\n",
       "      <td>-11.464500</td>\n",
       "      <td>-3.15066</td>\n",
       "      <td>29.68620</td>\n",
       "      <td>11.88960</td>\n",
       "      <td>1.646050</td>\n",
       "      <td>-2.873400</td>\n",
       "      <td>-1</td>\n",
       "      <td>10.46080</td>\n",
       "      <td>-2.360030</td>\n",
       "      <td>7.665790</td>\n",
       "      <td>6.71436</td>\n",
       "      <td>8.02085</td>\n",
       "      <td>0.761387</td>\n",
       "      <td>1.869450</td>\n",
       "      <td>1</td>\n",
       "      <td>16.26690</td>\n",
       "    </tr>\n",
       "  </tbody>\n",
       "</table>\n",
       "<p>100000 rows × 20 columns</p>\n",
       "</div>"
      ],
      "text/plain": [
       "      Type     Run      Event        E1       px1        py1       pz1  \\\n",
       "0       GT  146511   25343052   7.33390   2.060420   5.88580  -3.85836   \n",
       "1       GG  146511   25341481  18.46720   8.033950  -3.94072 -16.15410   \n",
       "2       GG  146511   25390065   7.70222  -0.248771   4.08338   6.52511   \n",
       "3       GG  146511   25391068   6.59462   5.246510   2.16082   3.35900   \n",
       "4       GG  146511   25489877  45.77350   8.864420   1.28931 -44.88830   \n",
       "...    ...     ...        ...       ...        ...       ...       ...   \n",
       "99995   GG  146510  209126492  17.86720  -2.053890   2.70372  17.54130   \n",
       "99996   GT  146510  209181268  22.45350   2.991560 -12.67420 -18.29110   \n",
       "99997   GT  146510  209199660   8.09128  -1.805550  -2.29272  -7.54593   \n",
       "99998   GT  146510  209209004   9.72188   4.608720   2.11413  -8.29421   \n",
       "99999   GG  146510  209458092  31.97880 -11.464500  -3.15066  29.68620   \n",
       "\n",
       "            pt1      eta1      phi1  Q1        E2       px2        py2  \\\n",
       "0       6.23602 -0.584812  1.234060  -1   5.20755 -1.550160  -1.819760   \n",
       "1       8.94839 -1.352990 -0.456026  -1  10.72950  6.294760  -2.524410   \n",
       "2       4.09095  1.246340  1.631640  -1   6.90202 -3.024390   3.751290   \n",
       "3       5.67407  0.561945  0.390686   1   7.43461 -5.060690   4.408010   \n",
       "4       8.95770 -2.314620  0.144435  -1   9.27485 -3.646960  -0.276874   \n",
       "...         ...       ...       ...  ..       ...       ...        ...   \n",
       "99995   3.39538  2.344530  2.220450   1  16.26420 -3.914730 -12.028600   \n",
       "99996  13.02240 -1.140640 -1.339000   1   4.71292 -0.250232  -2.176830   \n",
       "99997   2.91832 -1.678600 -2.237880  -1   4.33412  1.778710  -2.187670   \n",
       "99998   5.07049 -1.267800  0.430085   1   5.13298  3.917130   0.749418   \n",
       "99999  11.88960  1.646050 -2.873400  -1  10.46080 -2.360030   7.665790   \n",
       "\n",
       "            pz2       pt2      eta2      phi2  Q2         M  \n",
       "0       4.62525   2.39050  1.414110 -2.276360   1  11.82820  \n",
       "1      -8.31349   6.78208 -1.032390 -0.381397   1   2.58406  \n",
       "2       4.94041   4.81862  0.899132  2.249320   1   3.11929  \n",
       "3       3.19704   6.71127  0.459977  2.425020  -1  10.51920  \n",
       "4       8.52260   3.65745  1.582250 -3.065820   1  40.98300  \n",
       "...         ...       ...       ...       ...  ..       ...  \n",
       "99995  10.22260  12.64960  0.739009 -1.885440   1  16.47860  \n",
       "99996  -4.17124   2.19117 -1.399700 -1.685250  -1   2.32171  \n",
       "99997  -3.28995   2.81952 -0.994575 -0.888141   1   4.11094  \n",
       "99998  -3.22967   3.98817 -0.740312  0.189034  -1   2.64139  \n",
       "99999   6.71436   8.02085  0.761387  1.869450   1  16.26690  \n",
       "\n",
       "[100000 rows x 20 columns]"
      ]
     },
     "execution_count": 14,
     "metadata": {},
     "output_type": "execute_result"
    }
   ],
   "source": [
    "two_muons = pd.read_csv(\"http://opendata.cern.ch/record/303/files/dimuon.csv\")\n",
    "two_muons"
   ]
  },
  {
   "cell_type": "code",
   "execution_count": 40,
   "id": "33efff3f",
   "metadata": {},
   "outputs": [
    {
     "data": {
      "image/png": "[encoded data removed]",
      "text/plain": [
       "<Figure size 1080x720 with 1 Axes>"
      ]
     },
     "metadata": {
      "needs_background": "light"
     },
     "output_type": "display_data"
    }
   ],
   "source": [
    "#Save the invariant mass in a variable\n",
    "invariant_mass = two_muons['M']\n",
    "\n",
    "# Plot the histogram with the function hist() of the matplotlib.pyplot module:\n",
    "# (http://matplotlib.org/api/pyplot_api.html?highlight=matplotlib.pyplot.hist#matplotlib.pyplot.hist).\n",
    "# 'Bins' determines the number of the bins used.\n",
    "fig = plt.figure(figsize=(15,10))\n",
    "plt.hist(invariant_mass, bins=300)\n",
    "\n",
    "# Name the axes and give the title\n",
    "plt.xlabel('Invariant mass [GeV/c²]', fontsize=15)\n",
    "plt.ylabel('Frequency', fontsize=15)\n",
    "plt.title('The invariant mass of two muons', fontsize=15)\n",
    "#plt.yscale('log') \n",
    "# Show the plot.\n",
    "plt.show()"
   ]
  },
  {
   "cell_type": "markdown",
   "id": "7a2be0f0",
   "metadata": {},
   "source": [
    "You can check whether log scale looks better. Just edit the cell above, add plt.yscale(‘log’) before plt.show() and run it again."
   ]
  },
  {
   "cell_type": "markdown",
   "id": "e5f88de3",
   "metadata": {},
   "source": [
    "## 4. Additional material"
   ]
  },
  {
   "cell_type": "markdown",
   "id": "90d1356d",
   "metadata": {},
   "source": [
    "In the dataset we chose the invariant mass had already been calculated. Often we have to calculate the variable we are interested in ourselves. Let's now try to calculate the invariant mass of two muons.\n",
    "\n",
    "The square of the invariant mass of two particles is given by\n",
    "$$ M^2 = (E_1+E_2)^2-|| p_1+p_2 ||^2 = (E_1+E_2)^2-((p_{1_x}+p_{2_x})^2+(p_{1_y}+p_{2_y})^2+(p_{1_z}+p_{2_z})^2) $$\n",
    "\n",
    "Now we can calculate the invariant mass knowing that we can choose the variables by two_muons['E1'] etc. Remember that before every complex mathematical function you must define that it comes from the numpy package, which we imported and which we defined as np (e.g. np.sqrt(your_value)).\n",
    "\n",
    "As an extra challenge, note that it happens that one value of the newly computed invariant mass squared goes below 0 (sorry, this is real data) so we will have to exclude that from our set of values before taking the square root… not that nice but a good occasion to show how you can very efficiently set a selection criteria in a dataset with “pandas”"
   ]
  },
  {
   "cell_type": "code",
   "execution_count": 47,
   "id": "84482a4b",
   "metadata": {},
   "outputs": [],
   "source": [
    "mass_squared = ( (two_muons['E1'] + two_muons['E2'])**2 - ((two_muons['px1 '] + two_muons['px2'])**2 +(two_muons['py1'] + two_muons['py2'])**2  +(two_muons['pz1'] + two_muons['pz2'])**2))\n",
    "mass_squared_pos = mass_squared[(mass_squared >0)]"
   ]
  },
  {
   "cell_type": "code",
   "execution_count": 49,
   "id": "0394742e",
   "metadata": {},
   "outputs": [
    {
     "data": {
      "image/png": "[encoded data removed]",
      "text/plain": [
       "<Figure size 1080x720 with 1 Axes>"
      ]
     },
     "metadata": {
      "needs_background": "light"
     },
     "output_type": "display_data"
    }
   ],
   "source": [
    "fig = plt.figure(figsize=(15,10))\n",
    "plt.hist(np.sqrt(mass_squared_pos), bins=200, range=[-2,120])\n",
    "\n",
    "# Name the axes and give the title\n",
    "plt.xlabel('Invariant mass [GeV/c²]', fontsize=15)\n",
    "plt.ylabel('Frequency', fontsize=15)\n",
    "plt.title('The invariant mass of two muons', fontsize=15)\n",
    "#plt.yscale('log')\n",
    "#Show the plot.\n",
    "plt.show()"
   ]
  },
  {
   "cell_type": "markdown",
   "id": "0c0e6f85",
   "metadata": {},
   "source": [
    "### Exercise: Choose another dataset and plot a similar histogram."
   ]
  }
 ],
 "metadata": {
  "kernelspec": {
   "display_name": "Python 3 (ipykernel)",
   "language": "python",
   "name": "python3"
  },
  "language_info": {
   "codemirror_mode": {
    "name": "ipython",
    "version": 3
   },
   "file_extension": ".py",
   "mimetype": "text/x-python",
   "name": "python",
   "nbconvert_exporter": "python",
   "pygments_lexer": "ipython3",
   "version": "3.9.12"
  }
 },
 "nbformat": 4,
 "nbformat_minor": 5
}
