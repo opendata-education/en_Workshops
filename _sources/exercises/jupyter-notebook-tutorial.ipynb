{
 "cells": [
  {
   "cell_type": "markdown",
   "id": "94aa807a",
   "metadata": {},
   "source": [
    "# What is the Jupyter Notebook?\n",
    "\n",
    "Hey! This platform is the **Jupyter Notebook** where you can process text, code, images and data interactively. These documents are called \"notebooks\".\n",
    "\n",
    "The Jupyter Notebook works in your internet browser, which means that there is no need to install anything. This makes the notebooks easy to learn and use.\n",
    "\n",
    "You can also use Jupyter Notebook *locally* by installing a program on your computer. In that case, a similar window opens up on your on browser, but you can directly use local files or download an unfinished notebook to your computer. This makes sense when you want to make your own exercises or review your students' answers that include code or data. An example of a program that includes the Jupyter Notebook is [Anaconda Navigator](https://docs.anaconda.com/anaconda/navigator/).\n",
    "\n",
    "When using the Jupyter Notebook on a browser, it opens a virtual session that expires if you're dormant for ten minutes. If restarting doesn't work, you can save the file after which you can continue making changes.\n",
    "\n",
    "A notebook consists of different cells. We use **Markdown cells** for text and **code cells** for executable code. You can modify a cell by double-clicking it. The modified cell can be run by clicking the Run-button or with the shortcut Control + Enter (Mac: Command + Enter).\n",
    "\n",
    "You can find everything you need from the toolbar at the top of the window. You can save the file, make checkpoints, add or delete cells, move cells up or down, and run them. You can also choose between a text and a code cell using the drop-down menu."
   ]
  },
  {
   "cell_type": "code",
   "execution_count": 1,
   "id": "278d176c",
   "metadata": {},
   "outputs": [
    {
     "name": "stdout",
     "output_type": "stream",
     "text": [
      "2\n"
     ]
    }
   ],
   "source": [
    "# This is a code cell. You can write comments or instructions in a code cell by adding a number sign at the beginning of a line.\n",
    "# Let's do a short calculation for practice:\n",
    "\n",
    "a = 1+1  # The variable 'a' contains now the calculation 1+1\n",
    "print(a) # Print the variable 'a' to see result."
   ]
  },
  {
   "cell_type": "markdown",
   "id": "1f677703",
   "metadata": {},
   "source": [
    "Above we have a code cell that contains a short calculation. You can print the result by running the cell. On the left side of the cell there are square brackets. If there reads __In [\\*]__ inside the brackets, it means that the the execution of the cell is still in progress. When the cell has been run, a number appears inside the square brackets. The numbers tell in which order the cells have been run. If you ran the above cell once, there should be 1 inside the brackets. If you now run the cell for the second time, the number should change to 2."
   ]
  },
  {
   "cell_type": "markdown",
   "id": "d458fef0",
   "metadata": {},
   "source": [
    "### Exercise: Modify this text cell by adding a sentence that describes today's weather."
   ]
  },
  {
   "cell_type": "markdown",
   "id": "6ec863d1",
   "metadata": {},
   "source": [
    "### Exercise: Add a new code cell, calculate an arbitrary sum, and store it in the variable b."
   ]
  },
  {
   "cell_type": "markdown",
   "id": "dbd6c46b",
   "metadata": {},
   "source": [
    "## 1. Python libraries"
   ]
  },
  {
   "cell_type": "markdown",
   "id": "17dec97b",
   "metadata": {},
   "source": [
    "When using Python we take use of different libraries, each of which has a unique collection of functions. The libraries we use the most are\n",
    "- __numpy__, contains tools for numerical analysis\n",
    "- __pandas__, includes tools for data analysis\n",
    "- __matplotlib.pyplot__, includes tools for plotting figures\n",
    "\n",
    "Each library can be imported by using the __import__ command."
   ]
  },
  {
   "cell_type": "code",
   "execution_count": 2,
   "id": "47386d05",
   "metadata": {},
   "outputs": [],
   "source": [
    "# Run this cell first\n",
    "\n",
    "import numpy as np  # Import the numpy-library and give it an abbrevation for calling functions"
   ]
  },
  {
   "cell_type": "code",
   "execution_count": 3,
   "id": "7415979d",
   "metadata": {},
   "outputs": [
    {
     "name": "stdout",
     "output_type": "stream",
     "text": [
      "[1 3 6]\n"
     ]
    }
   ],
   "source": [
    "# Make an array [1 3 6] and save it in the variable 'vector'\n",
    "vector = np.array([1,3,6])\n",
    "print(vector)"
   ]
  },
  {
   "cell_type": "markdown",
   "id": "b88947cb",
   "metadata": {},
   "source": [
    "The array -method can be used to make vectors and matrices, which makes it great for analyzing data."
   ]
  },
  {
   "cell_type": "code",
   "execution_count": 4,
   "id": "ca11004e",
   "metadata": {},
   "outputs": [
    {
     "name": "stdout",
     "output_type": "stream",
     "text": [
      "[3 5 8]\n"
     ]
    }
   ],
   "source": [
    "# Add 2 to each element.\n",
    "print(vector + 2)"
   ]
  },
  {
   "cell_type": "code",
   "execution_count": 5,
   "id": "3482aeda",
   "metadata": {},
   "outputs": [
    {
     "name": "stdout",
     "output_type": "stream",
     "text": [
      "[1 3 6]\n"
     ]
    }
   ],
   "source": [
    "# What is going to happen if we now print only the variable 'vector'?\n",
    "print(vector)"
   ]
  },
  {
   "cell_type": "code",
   "execution_count": 6,
   "id": "1d8a1bd8",
   "metadata": {},
   "outputs": [
    {
     "name": "stdout",
     "output_type": "stream",
     "text": [
      "[3 5 8]\n"
     ]
    }
   ],
   "source": [
    "# We need to remember to save our changes to the variable!\n",
    "vector = vector + 2\n",
    "print(vector)"
   ]
  },
  {
   "cell_type": "markdown",
   "id": "e1e0db29",
   "metadata": {},
   "source": [
    "We can form a matrix by adding arrays as elements in a bigger array."
   ]
  },
  {
   "cell_type": "code",
   "execution_count": 7,
   "id": "0759fad0",
   "metadata": {},
   "outputs": [
    {
     "name": "stdout",
     "output_type": "stream",
     "text": [
      "The sum of the elements of array 1:  7\n",
      "Vector sums:  [[12 13]\n",
      " [21 23]]\n"
     ]
    }
   ],
   "source": [
    "# Let's form two matrices and try out different sums.\n",
    "arr1 = np.array([[2,2],\n",
    "                    [1,2]])\n",
    "arr2 = np.array([[10,11],\n",
    "                   [20,21]])\n",
    "vector_sum = arr1+arr2\n",
    "print(\"The sum of the elements of array 1: \", arr1.sum())\n",
    "print(\"Vector sums: \", vector_sum)"
   ]
  },
  {
   "cell_type": "markdown",
   "id": "d762da5f",
   "metadata": {},
   "source": [
    "## 2. Reading data"
   ]
  },
  {
   "cell_type": "markdown",
   "id": "1d6eee18",
   "metadata": {},
   "source": [
    "You can import a dataset into a notebook with an open link. In order to read datasets we need the library pandas and the __read_csv()__-method. The CSV (comma-separated values) file type is a useful way for saving data into a text file. Using the __head()__-method we can look at the first five lines of the dataset.\n",
    "\n",
    "Let's try this with [open data](http://opendata.cern.ch/) from the CMS experiment at CERN. "
   ]
  },
  {
   "cell_type": "code",
   "execution_count": 8,
   "id": "749cd183",
   "metadata": {},
   "outputs": [
    {
     "data": {
      "text/html": [
       "<div>\n",
       "<style scoped>\n",
       "    .dataframe tbody tr th:only-of-type {\n",
       "        vertical-align: middle;\n",
       "    }\n",
       "\n",
       "    .dataframe tbody tr th {\n",
       "        vertical-align: top;\n",
       "    }\n",
       "\n",
       "    .dataframe thead th {\n",
       "        text-align: right;\n",
       "    }\n",
       "</style>\n",
       "<table border=\"1\" class=\"dataframe\">\n",
       "  <thead>\n",
       "    <tr style=\"text-align: right;\">\n",
       "      <th></th>\n",
       "      <th>Run</th>\n",
       "      <th>Event</th>\n",
       "      <th>pt1</th>\n",
       "      <th>eta1</th>\n",
       "      <th>phi1</th>\n",
       "      <th>pt2</th>\n",
       "      <th>eta2</th>\n",
       "      <th>phi2</th>\n",
       "      <th>M</th>\n",
       "    </tr>\n",
       "  </thead>\n",
       "  <tbody>\n",
       "    <tr>\n",
       "      <th>0</th>\n",
       "      <td>199319</td>\n",
       "      <td>641436592</td>\n",
       "      <td>77.2006</td>\n",
       "      <td>0.250438</td>\n",
       "      <td>0.605505</td>\n",
       "      <td>60.1382</td>\n",
       "      <td>0.650821</td>\n",
       "      <td>-1.53900</td>\n",
       "      <td>122.797901</td>\n",
       "    </tr>\n",
       "    <tr>\n",
       "      <th>1</th>\n",
       "      <td>199699</td>\n",
       "      <td>336259924</td>\n",
       "      <td>64.1091</td>\n",
       "      <td>0.473667</td>\n",
       "      <td>-0.815133</td>\n",
       "      <td>58.6038</td>\n",
       "      <td>0.032018</td>\n",
       "      <td>2.58568</td>\n",
       "      <td>124.586979</td>\n",
       "    </tr>\n",
       "    <tr>\n",
       "      <th>2</th>\n",
       "      <td>201602</td>\n",
       "      <td>114902683</td>\n",
       "      <td>73.7489</td>\n",
       "      <td>0.800788</td>\n",
       "      <td>0.261020</td>\n",
       "      <td>55.9369</td>\n",
       "      <td>0.698872</td>\n",
       "      <td>3.03502</td>\n",
       "      <td>126.462830</td>\n",
       "    </tr>\n",
       "    <tr>\n",
       "      <th>3</th>\n",
       "      <td>202087</td>\n",
       "      <td>923352992</td>\n",
       "      <td>102.9550</td>\n",
       "      <td>0.979959</td>\n",
       "      <td>0.148624</td>\n",
       "      <td>76.6940</td>\n",
       "      <td>0.815527</td>\n",
       "      <td>1.67359</td>\n",
       "      <td>123.622542</td>\n",
       "    </tr>\n",
       "    <tr>\n",
       "      <th>4</th>\n",
       "      <td>203894</td>\n",
       "      <td>688901524</td>\n",
       "      <td>53.4409</td>\n",
       "      <td>-0.709665</td>\n",
       "      <td>1.642300</td>\n",
       "      <td>46.4314</td>\n",
       "      <td>0.945537</td>\n",
       "      <td>-2.71670</td>\n",
       "      <td>123.203887</td>\n",
       "    </tr>\n",
       "  </tbody>\n",
       "</table>\n",
       "</div>"
      ],
      "text/plain": [
       "      Run      Event       pt1      eta1      phi1      pt2      eta2  \\\n",
       "0  199319  641436592   77.2006  0.250438  0.605505  60.1382  0.650821   \n",
       "1  199699  336259924   64.1091  0.473667 -0.815133  58.6038  0.032018   \n",
       "2  201602  114902683   73.7489  0.800788  0.261020  55.9369  0.698872   \n",
       "3  202087  923352992  102.9550  0.979959  0.148624  76.6940  0.815527   \n",
       "4  203894  688901524   53.4409 -0.709665  1.642300  46.4314  0.945537   \n",
       "\n",
       "      phi2           M  \n",
       "0 -1.53900  122.797901  \n",
       "1  2.58568  124.586979  \n",
       "2  3.03502  126.462830  \n",
       "3  1.67359  123.622542  \n",
       "4 -2.71670  123.203887  "
      ]
     },
     "execution_count": 8,
     "metadata": {},
     "output_type": "execute_result"
    }
   ],
   "source": [
    "import pandas as pd\n",
    "data = pd.read_csv(\"http://opendata.cern.ch/record/5209/files/diphoton.csv\")\n",
    "data.head()"
   ]
  },
  {
   "cell_type": "markdown",
   "id": "8f0b13cb",
   "metadata": {},
   "source": [
    "You can choose a specific variable from the data in the following way:"
   ]
  },
  {
   "cell_type": "code",
   "execution_count": 9,
   "id": "5ee0b660",
   "metadata": {},
   "outputs": [
    {
     "name": "stdout",
     "output_type": "stream",
     "text": [
      "0    122.797901\n",
      "1    124.586979\n",
      "2    126.462830\n",
      "3    123.622542\n",
      "4    123.203887\n",
      "5    124.444405\n",
      "6    124.776915\n",
      "7    125.704971\n",
      "8    125.691479\n",
      "9    123.273271\n",
      "Name: M, dtype: float64\n",
      "Run      1.996990e+05\n",
      "Event    3.362599e+08\n",
      "pt1      6.410910e+01\n",
      "eta1     4.736670e-01\n",
      "phi1    -8.151330e-01\n",
      "pt2      5.860380e+01\n",
      "eta2     3.201850e-02\n",
      "phi2     2.585680e+00\n",
      "M        1.245870e+02\n",
      "Name: 1, dtype: float64\n"
     ]
    }
   ],
   "source": [
    "# Choosing a specific column\n",
    "invariant_mass = data['M']\n",
    "print(invariant_mass)\n",
    "\n",
    "# Choosing a specific row\n",
    "row = data.loc[1]\n",
    "print(row)"
   ]
  },
  {
   "cell_type": "markdown",
   "id": "6eab31ad",
   "metadata": {},
   "source": [
    "### Exercise: Open another dataset from the CMS experiment."
   ]
  },
  {
   "cell_type": "markdown",
   "id": "3a14c571",
   "metadata": {},
   "source": [
    "## 3. Plotting"
   ]
  },
  {
   "cell_type": "markdown",
   "id": "8460685e",
   "metadata": {},
   "source": [
    "In order to plot functions we need the matplotlib.pyplot library. We also need the numpy library but we don't have to import it now since we did it earlier."
   ]
  },
  {
   "cell_type": "code",
   "execution_count": 10,
   "id": "ccb78730",
   "metadata": {},
   "outputs": [],
   "source": [
    "import matplotlib.pyplot as plt"
   ]
  },
  {
   "cell_type": "markdown",
   "id": "2446fab1",
   "metadata": {},
   "source": [
    "Let's import another dataset and make a histogram of its invariant mass."
   ]
  },
  {
   "cell_type": "code",
   "execution_count": 11,
   "id": "11664fe3",
   "metadata": {},
   "outputs": [
    {
     "data": {
      "text/html": [
       "<div>\n",
       "<style scoped>\n",
       "    .dataframe tbody tr th:only-of-type {\n",
       "        vertical-align: middle;\n",
       "    }\n",
       "\n",
       "    .dataframe tbody tr th {\n",
       "        vertical-align: top;\n",
       "    }\n",
       "\n",
       "    .dataframe thead th {\n",
       "        text-align: right;\n",
       "    }\n",
       "</style>\n",
       "<table border=\"1\" class=\"dataframe\">\n",
       "  <thead>\n",
       "    <tr style=\"text-align: right;\">\n",
       "      <th></th>\n",
       "      <th>Type</th>\n",
       "      <th>Run</th>\n",
       "      <th>Event</th>\n",
       "      <th>E1</th>\n",
       "      <th>px1</th>\n",
       "      <th>py1</th>\n",
       "      <th>pz1</th>\n",
       "      <th>pt1</th>\n",
       "      <th>eta1</th>\n",
       "      <th>phi1</th>\n",
       "      <th>Q1</th>\n",
       "      <th>E2</th>\n",
       "      <th>px2</th>\n",
       "      <th>py2</th>\n",
       "      <th>pz2</th>\n",
       "      <th>pt2</th>\n",
       "      <th>eta2</th>\n",
       "      <th>phi2</th>\n",
       "      <th>Q2</th>\n",
       "      <th>M</th>\n",
       "    </tr>\n",
       "  </thead>\n",
       "  <tbody>\n",
       "    <tr>\n",
       "      <th>0</th>\n",
       "      <td>GT</td>\n",
       "      <td>148031</td>\n",
       "      <td>10507008</td>\n",
       "      <td>82.201866</td>\n",
       "      <td>-41.195288</td>\n",
       "      <td>17.433244</td>\n",
       "      <td>-68.964962</td>\n",
       "      <td>44.7322</td>\n",
       "      <td>-1.217690</td>\n",
       "      <td>2.741260</td>\n",
       "      <td>1</td>\n",
       "      <td>60.621875</td>\n",
       "      <td>34.144437</td>\n",
       "      <td>-16.119525</td>\n",
       "      <td>-47.426984</td>\n",
       "      <td>38.8311</td>\n",
       "      <td>-1.05139</td>\n",
       "      <td>-0.440873</td>\n",
       "      <td>-1</td>\n",
       "      <td>82.462692</td>\n",
       "    </tr>\n",
       "    <tr>\n",
       "      <th>1</th>\n",
       "      <td>TT</td>\n",
       "      <td>148031</td>\n",
       "      <td>10507008</td>\n",
       "      <td>62.344929</td>\n",
       "      <td>35.118050</td>\n",
       "      <td>-16.570362</td>\n",
       "      <td>-48.775247</td>\n",
       "      <td>38.8311</td>\n",
       "      <td>-1.051390</td>\n",
       "      <td>-0.440873</td>\n",
       "      <td>-1</td>\n",
       "      <td>82.201866</td>\n",
       "      <td>-41.195288</td>\n",
       "      <td>17.433244</td>\n",
       "      <td>-68.964962</td>\n",
       "      <td>44.7322</td>\n",
       "      <td>-1.21769</td>\n",
       "      <td>2.741260</td>\n",
       "      <td>1</td>\n",
       "      <td>83.626204</td>\n",
       "    </tr>\n",
       "    <tr>\n",
       "      <th>2</th>\n",
       "      <td>GT</td>\n",
       "      <td>148031</td>\n",
       "      <td>10507008</td>\n",
       "      <td>62.344929</td>\n",
       "      <td>35.118050</td>\n",
       "      <td>-16.570362</td>\n",
       "      <td>-48.775247</td>\n",
       "      <td>38.8311</td>\n",
       "      <td>-1.051390</td>\n",
       "      <td>-0.440873</td>\n",
       "      <td>-1</td>\n",
       "      <td>81.582778</td>\n",
       "      <td>-40.883323</td>\n",
       "      <td>17.299297</td>\n",
       "      <td>-68.447255</td>\n",
       "      <td>44.7322</td>\n",
       "      <td>-1.21769</td>\n",
       "      <td>2.741260</td>\n",
       "      <td>1</td>\n",
       "      <td>83.308465</td>\n",
       "    </tr>\n",
       "    <tr>\n",
       "      <th>3</th>\n",
       "      <td>GG</td>\n",
       "      <td>148031</td>\n",
       "      <td>10507008</td>\n",
       "      <td>60.621875</td>\n",
       "      <td>34.144437</td>\n",
       "      <td>-16.119525</td>\n",
       "      <td>-47.426984</td>\n",
       "      <td>38.8311</td>\n",
       "      <td>-1.051390</td>\n",
       "      <td>-0.440873</td>\n",
       "      <td>-1</td>\n",
       "      <td>81.582778</td>\n",
       "      <td>-40.883323</td>\n",
       "      <td>17.299297</td>\n",
       "      <td>-68.447255</td>\n",
       "      <td>44.7322</td>\n",
       "      <td>-1.21769</td>\n",
       "      <td>2.741260</td>\n",
       "      <td>1</td>\n",
       "      <td>82.149373</td>\n",
       "    </tr>\n",
       "    <tr>\n",
       "      <th>4</th>\n",
       "      <td>GT</td>\n",
       "      <td>148031</td>\n",
       "      <td>105238546</td>\n",
       "      <td>41.826389</td>\n",
       "      <td>22.783582</td>\n",
       "      <td>15.036444</td>\n",
       "      <td>-31.689894</td>\n",
       "      <td>27.2981</td>\n",
       "      <td>-0.990688</td>\n",
       "      <td>0.583351</td>\n",
       "      <td>1</td>\n",
       "      <td>49.760726</td>\n",
       "      <td>-20.177373</td>\n",
       "      <td>-9.354149</td>\n",
       "      <td>44.513955</td>\n",
       "      <td>21.8913</td>\n",
       "      <td>1.44434</td>\n",
       "      <td>-2.707650</td>\n",
       "      <td>-1</td>\n",
       "      <td>90.469123</td>\n",
       "    </tr>\n",
       "  </tbody>\n",
       "</table>\n",
       "</div>"
      ],
      "text/plain": [
       "  Type     Run      Event         E1        px1        py1        pz1  \\\n",
       "0   GT  148031   10507008  82.201866 -41.195288  17.433244 -68.964962   \n",
       "1   TT  148031   10507008  62.344929  35.118050 -16.570362 -48.775247   \n",
       "2   GT  148031   10507008  62.344929  35.118050 -16.570362 -48.775247   \n",
       "3   GG  148031   10507008  60.621875  34.144437 -16.119525 -47.426984   \n",
       "4   GT  148031  105238546  41.826389  22.783582  15.036444 -31.689894   \n",
       "\n",
       "       pt1      eta1      phi1  Q1         E2        px2        py2  \\\n",
       "0  44.7322 -1.217690  2.741260   1  60.621875  34.144437 -16.119525   \n",
       "1  38.8311 -1.051390 -0.440873  -1  82.201866 -41.195288  17.433244   \n",
       "2  38.8311 -1.051390 -0.440873  -1  81.582778 -40.883323  17.299297   \n",
       "3  38.8311 -1.051390 -0.440873  -1  81.582778 -40.883323  17.299297   \n",
       "4  27.2981 -0.990688  0.583351   1  49.760726 -20.177373  -9.354149   \n",
       "\n",
       "         pz2      pt2     eta2      phi2  Q2          M  \n",
       "0 -47.426984  38.8311 -1.05139 -0.440873  -1  82.462692  \n",
       "1 -68.964962  44.7322 -1.21769  2.741260   1  83.626204  \n",
       "2 -68.447255  44.7322 -1.21769  2.741260   1  83.308465  \n",
       "3 -68.447255  44.7322 -1.21769  2.741260   1  82.149373  \n",
       "4  44.513955  21.8913  1.44434 -2.707650  -1  90.469123  "
      ]
     },
     "execution_count": 11,
     "metadata": {},
     "output_type": "execute_result"
    }
   ],
   "source": [
    "two_muons = pd.read_csv(\"http://opendata.cern.ch/record/307/files/Zmumu.csv\")\n",
    "two_muons.head()"
   ]
  },
  {
   "cell_type": "code",
   "execution_count": 12,
   "id": "33efff3f",
   "metadata": {},
   "outputs": [
    {
     "data": {
      "image/png": "[encoded data removed]",
      "text/plain": [
       "<Figure size 1080x720 with 1 Axes>"
      ]
     },
     "metadata": {
      "needs_background": "light"
     },
     "output_type": "display_data"
    }
   ],
   "source": [
    "#Save the invariant mass in a variable\n",
    "invariant_mass1 = two_muons['M']\n",
    "\n",
    "# Plot the histogram with the function hist() of the matplotlib.pyplot module:\n",
    "# (http://matplotlib.org/api/pyplot_api.html?highlight=matplotlib.pyplot.hist#matplotlib.pyplot.hist).\n",
    "# 'Bins' determines the number of the bins used.\n",
    "fig = plt.figure(figsize=(15,10))\n",
    "plt.hist(invariant_mass1, bins=300)\n",
    "\n",
    "# Name the axes and give the title\n",
    "plt.xlabel('Invariant mass [GeV/c²]', fontsize=15)\n",
    "plt.ylabel('Number of collisions', fontsize=15)\n",
    "plt.title('The invariant mass of two muons', fontsize=15)\n",
    "\n",
    "# Show the plot.\n",
    "plt.show()"
   ]
  },
  {
   "cell_type": "markdown",
   "id": "0c0e6f85",
   "metadata": {},
   "source": [
    "### Exercise: Choose another dataset and plot a similar histogram."
   ]
  },
  {
   "cell_type": "markdown",
   "id": "e5f88de3",
   "metadata": {},
   "source": [
    "## 4. Additional material"
   ]
  },
  {
   "cell_type": "markdown",
   "id": "90d1356d",
   "metadata": {},
   "source": [
    "In the dataset we chose the invariant mass had already been calculated. Often we have to calculate the variable we are interested in ourselves. Let's now try to calculate the invariant mass of two muons.\n",
    "\n",
    "The invariant mass of two particles is given by\n",
    "$ M = \\sqrt{(E_1+E_2)^2-|| p_1+p_2 ||^2} = \\sqrt{(E_1+E_2)^2-((p_{1_x}+p_{2_x})^2+(p_{1_y}+p_{2_y})^2+(p_{1_z}+p_{2_z})^2)} $\n",
    "\n",
    "Now we can calculate the invariant mass knowing that we can choose the variables by two_muons['E1'] etc. Remember that before every complex mathematical function you must define that it comes from the numpy library, which we imported and which we defined as np (e.g. np.sqrt(your_value)).\n",
    "\n",
    "Additionally, we can use powers without the numpy library using the \\*\\*-operator (e.g. x^2 is written as x**2)."
   ]
  },
  {
   "cell_type": "markdown",
   "id": "e3661227",
   "metadata": {},
   "source": [
    "### Exercise: Calculate the invariant mass for all the collisions and save it in the variable 'invariant_mass2'."
   ]
  },
  {
   "cell_type": "code",
   "execution_count": null,
   "id": "8b9c496a",
   "metadata": {},
   "outputs": [],
   "source": [
    "# Write your code here"
   ]
  },
  {
   "cell_type": "markdown",
   "id": "4dcc93b1",
   "metadata": {},
   "source": [
    "Run the code below to plot a histogram using the values of invariant mass that you calculated. Does it look similar to the one we plotted earlier?"
   ]
  },
  {
   "cell_type": "code",
   "execution_count": null,
   "id": "0394742e",
   "metadata": {},
   "outputs": [],
   "source": [
    "fig = plt.figure(figsize=(15,10))\n",
    "plt.hist(invariant_mass2, bins=200)\n",
    "\n",
    "# Name the axes and give the title\n",
    "plt.xlabel('Invariant mass [GeV/c²]', fontsize=15)\n",
    "plt.ylabel('Number of collisions', fontsize=15)\n",
    "plt.title('The invariant mass of two muons', fontsize=15)\n",
    "#Show the plot.\n",
    "plt.show()"
   ]
  },
  {
   "cell_type": "markdown",
   "id": "37d150ad",
   "metadata": {},
   "source": [
    "We see that there appears a peak at around 91 GeV. This is because the muons are from a particle that has a mass of 91 GeV. This particle is known as Z-boson. "
   ]
  }
 ],
 "metadata": {
  "kernelspec": {
   "display_name": "Python 3 (ipykernel)",
   "language": "python",
   "name": "python3"
  },
  "language_info": {
   "codemirror_mode": {
    "name": "ipython",
    "version": 3
   },
   "file_extension": ".py",
   "mimetype": "text/x-python",
   "name": "python",
   "nbconvert_exporter": "python",
   "pygments_lexer": "ipython3",
   "version": "3.9.12"
  }
 },
 "nbformat": 4,
 "nbformat_minor": 5
}
